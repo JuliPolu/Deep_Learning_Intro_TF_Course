{
  "cells": [
    {
      "cell_type": "markdown",
      "metadata": {
        "id": "view-in-github",
        "colab_type": "text"
      },
      "source": [
        "<a href=\"https://colab.research.google.com/github/JuliPolu/Deep_Learning_TensorFlow_Course/blob/main/Assignment_4_CNN_PJ.ipynb\" target=\"_parent\"><img src=\"https://colab.research.google.com/assets/colab-badge.svg\" alt=\"Open In Colab\"/></a>"
      ]
    },
    {
      "cell_type": "markdown",
      "source": [
        "# Домашнее задание. Урок 4.\n",
        "\n",
        "## Практическое задание"
      ],
      "metadata": {
        "collapsed": false,
        "pycharm": {
          "name": "#%% md\n"
        },
        "id": "rCPZq-WtApQ_"
      }
    },
    {
      "cell_type": "markdown",
      "source": [
        "Домашнее задание\n",
        "обучить рукописную сверточную нейронную сеть (с падением размера ядра свертки и последовательностью блоков свертка-пулинг (conv-pool)-(conv-pool)-...) на датасете cifar-10 <br>\n",
        "оценить рост точности при увеличении ширины сети (больше фильтров) <br>\n",
        "оценить рост точности при увеличении глубины сети (больше слоев) <br>\n",
        "*сравнить с точностью полносвязной сети для этой выборки <br>"
      ],
      "metadata": {
        "collapsed": false,
        "pycharm": {
          "name": "#%% md\n"
        },
        "id": "hMWcVw0vApRC"
      }
    },
    {
      "cell_type": "code",
      "execution_count": null,
      "outputs": [],
      "source": [
        "from __future__ import print_function\n",
        "import tensorflow.keras as keras # расскоментируйте эту строку, чтобы начать обучение\n",
        "from tensorflow.keras.datasets import cifar10\n",
        "from tensorflow.keras.preprocessing.image import ImageDataGenerator\n",
        "from tensorflow.keras.models import Sequential\n",
        "from tensorflow.keras.layers import Dense, Dropout, Activation, Flatten\n",
        "from tensorflow.keras.layers import Conv2D, MaxPooling2D\n",
        "import os"
      ],
      "metadata": {
        "pycharm": {
          "name": "#%%\n"
        },
        "id": "7czKFLaaApRD"
      }
    },
    {
      "cell_type": "code",
      "source": [
        "import pandas as pd"
      ],
      "metadata": {
        "id": "7as7gSgXLDgn"
      },
      "execution_count": null,
      "outputs": []
    },
    {
      "cell_type": "code",
      "execution_count": null,
      "outputs": [],
      "source": [
        "classes = ['самолет', 'автомобиль', 'птица', 'кот', 'олень', 'собака', 'лягушка', 'лошадь', 'корабль', 'грузовик']\n"
      ],
      "metadata": {
        "pycharm": {
          "name": "#%%\n"
        },
        "id": "VzDlXCLPApRE"
      }
    },
    {
      "cell_type": "markdown",
      "source": [
        "## Установка параметров нейросети"
      ],
      "metadata": {
        "collapsed": false,
        "pycharm": {
          "name": "#%% md\n"
        },
        "id": "PVZVe-EQApRF"
      }
    },
    {
      "cell_type": "code",
      "execution_count": null,
      "outputs": [],
      "source": [
        "batch_size = 32\n",
        "num_classes = 10\n",
        "epochs = 10\n",
        "data_augmentation = False\n",
        "num_predictions = 20\n",
        "# save_dir = os.path.join(os.getcwd(), 'saved_models')\n",
        "# model_name = 'keras_cifar10_trained_model.h5'\n"
      ],
      "metadata": {
        "pycharm": {
          "name": "#%%\n"
        },
        "id": "woO612EcApRF"
      }
    },
    {
      "cell_type": "markdown",
      "source": [
        "## Разделение тренировочной и тестовой выборки"
      ],
      "metadata": {
        "collapsed": false,
        "pycharm": {
          "name": "#%% md\n"
        },
        "id": "ve0SZYFIApRG"
      }
    },
    {
      "cell_type": "code",
      "execution_count": null,
      "outputs": [
        {
          "output_type": "stream",
          "name": "stdout",
          "text": [
            "Downloading data from https://www.cs.toronto.edu/~kriz/cifar-10-python.tar.gz\n",
            "170498071/170498071 [==============================] - 2s 0us/step\n",
            "x_train shape: (50000, 32, 32, 3)\n",
            "50000 тренировочные примеры\n",
            "10000 тестовые примеры\n"
          ]
        }
      ],
      "source": [
        "(x_train, y_train), (x_test, y_test) = cifar10.load_data()\n",
        "print('x_train shape:', x_train.shape)\n",
        "print(x_train.shape[0], 'тренировочные примеры')\n",
        "print(x_test.shape[0], 'тестовые примеры')"
      ],
      "metadata": {
        "pycharm": {
          "name": "#%%\n"
        },
        "colab": {
          "base_uri": "https://localhost:8080/"
        },
        "id": "zYUGYnhfApRG",
        "outputId": "95b52ffe-8e2b-4457-849c-f855b13a79ac"
      }
    },
    {
      "cell_type": "markdown",
      "source": [
        "## Преобразование матрицы чисел 0-9 в бинарную матрицу чисел 0-1"
      ],
      "metadata": {
        "collapsed": false,
        "pycharm": {
          "name": "#%% md\n"
        },
        "id": "SSxJVxkYApRG"
      }
    },
    {
      "cell_type": "code",
      "execution_count": null,
      "outputs": [],
      "source": [
        "y_train = keras.utils.to_categorical(y_train, num_classes)\n",
        "y_test = keras.utils.to_categorical(y_test, num_classes)\n",
        "\n",
        "x_train = x_train.astype('float32')\n",
        "x_test = x_test.astype('float32')\n",
        "x_train /= 255\n",
        "x_test /= 255\n",
        "\n"
      ],
      "metadata": {
        "pycharm": {
          "name": "#%%\n"
        },
        "id": "L8lCSQ3aApRG"
      }
    },
    {
      "cell_type": "markdown",
      "source": [
        "## Конфигурирование нейросети"
      ],
      "metadata": {
        "collapsed": false,
        "pycharm": {
          "name": "#%% md\n"
        },
        "id": "bfkpBhMKApRH"
      }
    },
    {
      "cell_type": "code",
      "execution_count": null,
      "outputs": [],
      "source": [
        "def bild_model(koef_core = 1, num_layers = 1):\n",
        "    model = Sequential()\n",
        "\n",
        "    # слои нейросети отвественные за свертку и max-pooling\n",
        "    model.add(Conv2D(32 * koef_core, (3, 3), padding='same', input_shape=x_train.shape[1:]))\n",
        "    model.add(Activation('relu'))\n",
        "\n",
        "    for _ in range(num_layers):\n",
        "        model.add(Conv2D(32 * koef_core, (3, 3)))\n",
        "        model.add(Activation('relu'))\n",
        "\n",
        "    model.add(MaxPooling2D(pool_size=(2, 2)))\n",
        "    model.add(Dropout(0.25))\n",
        "\n",
        "    model.add(Conv2D(64 * koef_core, (3, 3), padding='same'))\n",
        "    model.add(Activation('relu'))\n",
        "    model.add(Conv2D(64 * koef_core, (3, 3)))\n",
        "    model.add(Activation('relu'))\n",
        "    model.add(MaxPooling2D(pool_size=(2, 2)))\n",
        "\n",
        "    model.add(Dropout(0.25))\n",
        "\n",
        "    # полносвязные слои нейронной сети\n",
        "    model.add(Flatten())\n",
        "    model.add(Dense(512))\n",
        "    model.add(Activation('relu'))\n",
        "    model.add(Dropout(0.5))\n",
        "    model.add(Dense(num_classes))\n",
        "    model.add(Activation('softmax'))\n",
        "\n",
        "    # компиляция модели\n",
        "    model.compile(loss='categorical_crossentropy',\n",
        "                  optimizer='SGD',\n",
        "                  metrics=['accuracy'])\n",
        "\n",
        "    return model"
      ],
      "metadata": {
        "pycharm": {
          "name": "#%%\n"
        },
        "id": "RQkdEYQLApRH"
      }
    },
    {
      "cell_type": "code",
      "execution_count": null,
      "outputs": [
        {
          "output_type": "stream",
          "name": "stdout",
          "text": [
            "Epoch 1/10\n",
            "1563/1563 [==============================] - 19s 6ms/step - loss: 2.1318 - accuracy: 0.2043 - val_loss: 1.8659 - val_accuracy: 0.3337\n",
            "Epoch 2/10\n",
            "1563/1563 [==============================] - 10s 6ms/step - loss: 1.7672 - accuracy: 0.3566 - val_loss: 1.6805 - val_accuracy: 0.3861\n",
            "Epoch 3/10\n",
            "1563/1563 [==============================] - 10s 7ms/step - loss: 1.6203 - accuracy: 0.4097 - val_loss: 1.4772 - val_accuracy: 0.4652\n",
            "Epoch 4/10\n",
            "1563/1563 [==============================] - 10s 7ms/step - loss: 1.5207 - accuracy: 0.4495 - val_loss: 1.4336 - val_accuracy: 0.4785\n",
            "Epoch 5/10\n",
            "1563/1563 [==============================] - 11s 7ms/step - loss: 1.4256 - accuracy: 0.4863 - val_loss: 1.3090 - val_accuracy: 0.5301\n",
            "Epoch 6/10\n",
            "1563/1563 [==============================] - 10s 7ms/step - loss: 1.3503 - accuracy: 0.5130 - val_loss: 1.2529 - val_accuracy: 0.5561\n",
            "Epoch 7/10\n",
            "1563/1563 [==============================] - 9s 6ms/step - loss: 1.2878 - accuracy: 0.5375 - val_loss: 1.2488 - val_accuracy: 0.5584\n",
            "Epoch 8/10\n",
            "1563/1563 [==============================] - 10s 7ms/step - loss: 1.2359 - accuracy: 0.5586 - val_loss: 1.1147 - val_accuracy: 0.6068\n",
            "Epoch 9/10\n",
            "1563/1563 [==============================] - 10s 7ms/step - loss: 1.1878 - accuracy: 0.5735 - val_loss: 1.0797 - val_accuracy: 0.6248\n",
            "Epoch 10/10\n",
            "1563/1563 [==============================] - 10s 7ms/step - loss: 1.1384 - accuracy: 0.5940 - val_loss: 1.0257 - val_accuracy: 0.6398\n",
            "313/313 [==============================] - 1s 3ms/step - loss: 1.0257 - accuracy: 0.6398\n",
            "Epoch 1/10\n",
            "1563/1563 [==============================] - 13s 7ms/step - loss: 2.1014 - accuracy: 0.2221 - val_loss: 1.8735 - val_accuracy: 0.3360\n",
            "Epoch 2/10\n",
            "1563/1563 [==============================] - 11s 7ms/step - loss: 1.8175 - accuracy: 0.3400 - val_loss: 1.7295 - val_accuracy: 0.3745\n",
            "Epoch 3/10\n",
            "1563/1563 [==============================] - 11s 7ms/step - loss: 1.6536 - accuracy: 0.3981 - val_loss: 1.5107 - val_accuracy: 0.4594\n",
            "Epoch 4/10\n",
            "1563/1563 [==============================] - 12s 7ms/step - loss: 1.5235 - accuracy: 0.4480 - val_loss: 1.4929 - val_accuracy: 0.4639\n",
            "Epoch 5/10\n",
            "1563/1563 [==============================] - 12s 7ms/step - loss: 1.4252 - accuracy: 0.4828 - val_loss: 1.3209 - val_accuracy: 0.5222\n",
            "Epoch 6/10\n",
            "1563/1563 [==============================] - 11s 7ms/step - loss: 1.3554 - accuracy: 0.5126 - val_loss: 1.2357 - val_accuracy: 0.5607\n",
            "Epoch 7/10\n",
            "1563/1563 [==============================] - 11s 7ms/step - loss: 1.2857 - accuracy: 0.5392 - val_loss: 1.1870 - val_accuracy: 0.5766\n",
            "Epoch 8/10\n",
            "1563/1563 [==============================] - 11s 7ms/step - loss: 1.2232 - accuracy: 0.5632 - val_loss: 1.0993 - val_accuracy: 0.6132\n",
            "Epoch 9/10\n",
            "1563/1563 [==============================] - 11s 7ms/step - loss: 1.1694 - accuracy: 0.5835 - val_loss: 1.0598 - val_accuracy: 0.6304\n",
            "Epoch 10/10\n",
            "1563/1563 [==============================] - 11s 7ms/step - loss: 1.1165 - accuracy: 0.6050 - val_loss: 1.0107 - val_accuracy: 0.6469\n",
            "313/313 [==============================] - 1s 4ms/step - loss: 1.0107 - accuracy: 0.6469\n",
            "Epoch 1/10\n",
            "1563/1563 [==============================] - 16s 9ms/step - loss: 2.0640 - accuracy: 0.2397 - val_loss: 1.7650 - val_accuracy: 0.3831\n",
            "Epoch 2/10\n",
            "1563/1563 [==============================] - 14s 9ms/step - loss: 1.6991 - accuracy: 0.3825 - val_loss: 1.4929 - val_accuracy: 0.4577\n",
            "Epoch 3/10\n",
            "1563/1563 [==============================] - 14s 9ms/step - loss: 1.5038 - accuracy: 0.4536 - val_loss: 1.3568 - val_accuracy: 0.5129\n",
            "Epoch 4/10\n",
            "1563/1563 [==============================] - 14s 9ms/step - loss: 1.3847 - accuracy: 0.5016 - val_loss: 1.2416 - val_accuracy: 0.5617\n",
            "Epoch 5/10\n",
            "1563/1563 [==============================] - 14s 9ms/step - loss: 1.2888 - accuracy: 0.5396 - val_loss: 1.1848 - val_accuracy: 0.5788\n",
            "Epoch 6/10\n",
            "1563/1563 [==============================] - 14s 9ms/step - loss: 1.2059 - accuracy: 0.5690 - val_loss: 1.1325 - val_accuracy: 0.6012\n",
            "Epoch 7/10\n",
            "1563/1563 [==============================] - 14s 9ms/step - loss: 1.1321 - accuracy: 0.5990 - val_loss: 1.0411 - val_accuracy: 0.6301\n",
            "Epoch 8/10\n",
            "1563/1563 [==============================] - 14s 9ms/step - loss: 1.0744 - accuracy: 0.6202 - val_loss: 1.0074 - val_accuracy: 0.6437\n",
            "Epoch 9/10\n",
            "1563/1563 [==============================] - 14s 9ms/step - loss: 1.0196 - accuracy: 0.6388 - val_loss: 0.9710 - val_accuracy: 0.6555\n",
            "Epoch 10/10\n",
            "1563/1563 [==============================] - 14s 9ms/step - loss: 0.9674 - accuracy: 0.6578 - val_loss: 0.8976 - val_accuracy: 0.6863\n",
            "313/313 [==============================] - 1s 4ms/step - loss: 0.8976 - accuracy: 0.6863\n",
            "Epoch 1/10\n",
            "1563/1563 [==============================] - 19s 11ms/step - loss: 2.0782 - accuracy: 0.2314 - val_loss: 1.8487 - val_accuracy: 0.3565\n",
            "Epoch 2/10\n",
            "1563/1563 [==============================] - 17s 11ms/step - loss: 1.7641 - accuracy: 0.3588 - val_loss: 1.6171 - val_accuracy: 0.4079\n",
            "Epoch 3/10\n",
            "1563/1563 [==============================] - 16s 11ms/step - loss: 1.5881 - accuracy: 0.4229 - val_loss: 1.4077 - val_accuracy: 0.4935\n",
            "Epoch 4/10\n",
            "1563/1563 [==============================] - 17s 11ms/step - loss: 1.4522 - accuracy: 0.4739 - val_loss: 1.4150 - val_accuracy: 0.4974\n",
            "Epoch 5/10\n",
            "1563/1563 [==============================] - 16s 10ms/step - loss: 1.3548 - accuracy: 0.5130 - val_loss: 1.2795 - val_accuracy: 0.5390\n",
            "Epoch 6/10\n",
            "1563/1563 [==============================] - 17s 11ms/step - loss: 1.2747 - accuracy: 0.5426 - val_loss: 1.1769 - val_accuracy: 0.5822\n",
            "Epoch 7/10\n",
            "1563/1563 [==============================] - 17s 11ms/step - loss: 1.2035 - accuracy: 0.5720 - val_loss: 1.1324 - val_accuracy: 0.6017\n",
            "Epoch 8/10\n",
            "1563/1563 [==============================] - 16s 11ms/step - loss: 1.1344 - accuracy: 0.5969 - val_loss: 1.0995 - val_accuracy: 0.6136\n",
            "Epoch 9/10\n",
            "1563/1563 [==============================] - 17s 11ms/step - loss: 1.0735 - accuracy: 0.6193 - val_loss: 1.0170 - val_accuracy: 0.6443\n",
            "Epoch 10/10\n",
            "1563/1563 [==============================] - 17s 11ms/step - loss: 1.0120 - accuracy: 0.6408 - val_loss: 0.9410 - val_accuracy: 0.6692\n",
            "313/313 [==============================] - 1s 5ms/step - loss: 0.9410 - accuracy: 0.6692\n"
          ]
        }
      ],
      "source": [
        "result = []\n",
        "for koef_core in [1, 2]:\n",
        "  for num_layers in [1,2]:\n",
        "    model = bild_model(koef_core=koef_core, num_layers=num_layers)\n",
        "    history = model.fit(x_train, y_train,\n",
        "              batch_size=batch_size,\n",
        "              epochs=epochs,\n",
        "              validation_data=(x_test, y_test),\n",
        "              shuffle=True)\n",
        "    scores = model.evaluate(x_test, y_test, verbose=1)\n",
        "    result.append([koef_core, num_layers, history.history['loss'][-1], history.history['accuracy'][-1], scores[0], scores[1]])"
      ],
      "metadata": {
        "pycharm": {
          "name": "#%%\n"
        },
        "colab": {
          "base_uri": "https://localhost:8080/"
        },
        "id": "L6onZOmJApRH",
        "outputId": "92818d84-772d-4f44-f6b4-7e0848a17e63"
      }
    },
    {
      "cell_type": "code",
      "execution_count": null,
      "outputs": [
        {
          "output_type": "execute_result",
          "data": {
            "text/plain": [
              "   core  layers  loss train  accuracy train  loss test  accuracy test\n",
              "0     1       1    1.138409         0.59396   1.025703         0.6398\n",
              "1     1       2    1.116525         0.60504   1.010669         0.6469\n",
              "2     2       1    0.967390         0.65776   0.897607         0.6863\n",
              "3     2       2    1.011961         0.64084   0.941022         0.6692"
            ],
            "text/html": [
              "\n",
              "  <div id=\"df-c0931a87-cc4a-4e03-a642-1ab064ddecc4\">\n",
              "    <div class=\"colab-df-container\">\n",
              "      <div>\n",
              "<style scoped>\n",
              "    .dataframe tbody tr th:only-of-type {\n",
              "        vertical-align: middle;\n",
              "    }\n",
              "\n",
              "    .dataframe tbody tr th {\n",
              "        vertical-align: top;\n",
              "    }\n",
              "\n",
              "    .dataframe thead th {\n",
              "        text-align: right;\n",
              "    }\n",
              "</style>\n",
              "<table border=\"1\" class=\"dataframe\">\n",
              "  <thead>\n",
              "    <tr style=\"text-align: right;\">\n",
              "      <th></th>\n",
              "      <th>core</th>\n",
              "      <th>layers</th>\n",
              "      <th>loss train</th>\n",
              "      <th>accuracy train</th>\n",
              "      <th>loss test</th>\n",
              "      <th>accuracy test</th>\n",
              "    </tr>\n",
              "  </thead>\n",
              "  <tbody>\n",
              "    <tr>\n",
              "      <th>0</th>\n",
              "      <td>1</td>\n",
              "      <td>1</td>\n",
              "      <td>1.138409</td>\n",
              "      <td>0.59396</td>\n",
              "      <td>1.025703</td>\n",
              "      <td>0.6398</td>\n",
              "    </tr>\n",
              "    <tr>\n",
              "      <th>1</th>\n",
              "      <td>1</td>\n",
              "      <td>2</td>\n",
              "      <td>1.116525</td>\n",
              "      <td>0.60504</td>\n",
              "      <td>1.010669</td>\n",
              "      <td>0.6469</td>\n",
              "    </tr>\n",
              "    <tr>\n",
              "      <th>2</th>\n",
              "      <td>2</td>\n",
              "      <td>1</td>\n",
              "      <td>0.967390</td>\n",
              "      <td>0.65776</td>\n",
              "      <td>0.897607</td>\n",
              "      <td>0.6863</td>\n",
              "    </tr>\n",
              "    <tr>\n",
              "      <th>3</th>\n",
              "      <td>2</td>\n",
              "      <td>2</td>\n",
              "      <td>1.011961</td>\n",
              "      <td>0.64084</td>\n",
              "      <td>0.941022</td>\n",
              "      <td>0.6692</td>\n",
              "    </tr>\n",
              "  </tbody>\n",
              "</table>\n",
              "</div>\n",
              "      <button class=\"colab-df-convert\" onclick=\"convertToInteractive('df-c0931a87-cc4a-4e03-a642-1ab064ddecc4')\"\n",
              "              title=\"Convert this dataframe to an interactive table.\"\n",
              "              style=\"display:none;\">\n",
              "        \n",
              "  <svg xmlns=\"http://www.w3.org/2000/svg\" height=\"24px\"viewBox=\"0 0 24 24\"\n",
              "       width=\"24px\">\n",
              "    <path d=\"M0 0h24v24H0V0z\" fill=\"none\"/>\n",
              "    <path d=\"M18.56 5.44l.94 2.06.94-2.06 2.06-.94-2.06-.94-.94-2.06-.94 2.06-2.06.94zm-11 1L8.5 8.5l.94-2.06 2.06-.94-2.06-.94L8.5 2.5l-.94 2.06-2.06.94zm10 10l.94 2.06.94-2.06 2.06-.94-2.06-.94-.94-2.06-.94 2.06-2.06.94z\"/><path d=\"M17.41 7.96l-1.37-1.37c-.4-.4-.92-.59-1.43-.59-.52 0-1.04.2-1.43.59L10.3 9.45l-7.72 7.72c-.78.78-.78 2.05 0 2.83L4 21.41c.39.39.9.59 1.41.59.51 0 1.02-.2 1.41-.59l7.78-7.78 2.81-2.81c.8-.78.8-2.07 0-2.86zM5.41 20L4 18.59l7.72-7.72 1.47 1.35L5.41 20z\"/>\n",
              "  </svg>\n",
              "      </button>\n",
              "      \n",
              "  <style>\n",
              "    .colab-df-container {\n",
              "      display:flex;\n",
              "      flex-wrap:wrap;\n",
              "      gap: 12px;\n",
              "    }\n",
              "\n",
              "    .colab-df-convert {\n",
              "      background-color: #E8F0FE;\n",
              "      border: none;\n",
              "      border-radius: 50%;\n",
              "      cursor: pointer;\n",
              "      display: none;\n",
              "      fill: #1967D2;\n",
              "      height: 32px;\n",
              "      padding: 0 0 0 0;\n",
              "      width: 32px;\n",
              "    }\n",
              "\n",
              "    .colab-df-convert:hover {\n",
              "      background-color: #E2EBFA;\n",
              "      box-shadow: 0px 1px 2px rgba(60, 64, 67, 0.3), 0px 1px 3px 1px rgba(60, 64, 67, 0.15);\n",
              "      fill: #174EA6;\n",
              "    }\n",
              "\n",
              "    [theme=dark] .colab-df-convert {\n",
              "      background-color: #3B4455;\n",
              "      fill: #D2E3FC;\n",
              "    }\n",
              "\n",
              "    [theme=dark] .colab-df-convert:hover {\n",
              "      background-color: #434B5C;\n",
              "      box-shadow: 0px 1px 3px 1px rgba(0, 0, 0, 0.15);\n",
              "      filter: drop-shadow(0px 1px 2px rgba(0, 0, 0, 0.3));\n",
              "      fill: #FFFFFF;\n",
              "    }\n",
              "  </style>\n",
              "\n",
              "      <script>\n",
              "        const buttonEl =\n",
              "          document.querySelector('#df-c0931a87-cc4a-4e03-a642-1ab064ddecc4 button.colab-df-convert');\n",
              "        buttonEl.style.display =\n",
              "          google.colab.kernel.accessAllowed ? 'block' : 'none';\n",
              "\n",
              "        async function convertToInteractive(key) {\n",
              "          const element = document.querySelector('#df-c0931a87-cc4a-4e03-a642-1ab064ddecc4');\n",
              "          const dataTable =\n",
              "            await google.colab.kernel.invokeFunction('convertToInteractive',\n",
              "                                                     [key], {});\n",
              "          if (!dataTable) return;\n",
              "\n",
              "          const docLinkHtml = 'Like what you see? Visit the ' +\n",
              "            '<a target=\"_blank\" href=https://colab.research.google.com/notebooks/data_table.ipynb>data table notebook</a>'\n",
              "            + ' to learn more about interactive tables.';\n",
              "          element.innerHTML = '';\n",
              "          dataTable['output_type'] = 'display_data';\n",
              "          await google.colab.output.renderOutput(dataTable, element);\n",
              "          const docLink = document.createElement('div');\n",
              "          docLink.innerHTML = docLinkHtml;\n",
              "          element.appendChild(docLink);\n",
              "        }\n",
              "      </script>\n",
              "    </div>\n",
              "  </div>\n",
              "  "
            ]
          },
          "metadata": {},
          "execution_count": 9
        }
      ],
      "source": [
        "# проверка работы обученной модели\n",
        "pd.DataFrame(result, columns=['core', 'layers', 'loss train','accuracy train','loss test','accuracy test'])"
      ],
      "metadata": {
        "pycharm": {
          "name": "#%%\n"
        },
        "colab": {
          "base_uri": "https://localhost:8080/",
          "height": 175
        },
        "id": "nNfGAOTOApRH",
        "outputId": "39552e6f-7069-45b6-fbfc-f9b523f889c2"
      }
    },
    {
      "cell_type": "code",
      "source": [],
      "metadata": {
        "id": "GsjtRY2dBNjE"
      },
      "execution_count": null,
      "outputs": []
    }
  ],
  "metadata": {
    "kernelspec": {
      "display_name": "Python 3",
      "language": "python",
      "name": "python3"
    },
    "language_info": {
      "codemirror_mode": {
        "name": "ipython",
        "version": 2
      },
      "file_extension": ".py",
      "mimetype": "text/x-python",
      "name": "python",
      "nbconvert_exporter": "python",
      "pygments_lexer": "ipython2",
      "version": "2.7.6"
    },
    "colab": {
      "provenance": [],
      "include_colab_link": true
    },
    "accelerator": "GPU"
  },
  "nbformat": 4,
  "nbformat_minor": 0
}