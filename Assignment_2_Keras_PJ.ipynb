{
  "cells": [
    {
      "cell_type": "markdown",
      "metadata": {
        "id": "view-in-github",
        "colab_type": "text"
      },
      "source": [
        "<a href=\"https://colab.research.google.com/github/JuliPolu/Deep_Learning_TensorFlow_Course/blob/main/Assignment_2_Keras_PJ.ipynb\" target=\"_parent\"><img src=\"https://colab.research.google.com/assets/colab-badge.svg\" alt=\"Open In Colab\"/></a>"
      ]
    },
    {
      "cell_type": "markdown",
      "source": [
        "\n",
        "Урок 2. Keras"
      ],
      "metadata": {
        "id": "wN7UyVDN3OOW"
      }
    },
    {
      "cell_type": "markdown",
      "source": [
        "Домашнее задание на сайте звучит так:"
      ],
      "metadata": {
        "id": "4cj11-153jEU"
      }
    },
    {
      "cell_type": "markdown",
      "source": [
        "<ol>\n",
        "    <li>Попробуйте обучить, нейронную сеть на Keras (рассмотренную на уроке) на датасете MNIST с другими параметрами.\n",
        "        Опишите в комментарии к уроку - какой результата вы добились от нейросети? Что помогло вам улучшить ее точность?</li>\n",
        "    <li>Поработайте с документацией Keras. Попробуйте найти полезные команды Keras неразобранные на уроке.</li>\n",
        "</ol>"
      ],
      "metadata": {
        "id": "GVwu_W6C3QTR"
      }
    },
    {
      "cell_type": "markdown",
      "source": [
        "Однако в видео было предложено сделать немного другое задание (описание ниже)."
      ],
      "metadata": {
        "id": "QTqwEkTz3Qag"
      }
    },
    {
      "cell_type": "markdown",
      "source": [
        "Используем набор примеров fashion-MNIST\n",
        "\n",
        "1.  Опишите - какой результата получен в нейросети в зависимости от:\n",
        "  -  числа нейронов в слое(для 2-хслойной сети),\n",
        "  - числа слоев (2, 3, 5, 10) при близких размерах сети (близкое число тренируемых парметров).\n",
        "  - фиксируйте для тренировочного и тестового набора метрики accuracy.\n",
        "2.  Проверьте работу разных оптимизаторов (SGD, Adam, RMSProp) для одной из моделей п.1.Фиксируйте для тренировочного и тестового набора метрики accuracy.\n",
        "\n",
        "3. Сделайте вывод - что помогло вам улучшить качество классификации в нейросети на тестовом наборе?\n",
        "\n",
        "4. Для одного варианта сетей сформируйте матрицу ошибок по классам. Оцените качество модели по каждому классу отдельно (полнота , точность). Сделайте вывод."
      ],
      "metadata": {
        "id": "7hN9jKbh32Iq"
      }
    },
    {
      "cell_type": "markdown",
      "source": [
        "Так как задания перекликаются, но задание в видеоуроке более расширеннное, мной было принято решение выполнять задание из видеоурока"
      ],
      "metadata": {
        "id": "r6PGBSiq3qDk"
      }
    },
    {
      "cell_type": "code",
      "execution_count": null,
      "metadata": {
        "id": "5Njuoln9Tkf2"
      },
      "outputs": [],
      "source": [
        "import numpy as np\n",
        "import pandas as pd\n",
        "import keras\n",
        "from keras.models import Sequential\n",
        "from keras.layers import Dense\n",
        "from tensorflow.keras.utils import to_categorical\n",
        "from keras.datasets import fashion_mnist  # набор для работы\n",
        "\n",
        "from sklearn.metrics import classification_report\n",
        "from sklearn.metrics import confusion_matrix"
      ]
    },
    {
      "cell_type": "code",
      "execution_count": null,
      "metadata": {
        "colab": {
          "base_uri": "https://localhost:8080/"
        },
        "id": "3BRDanmSTpgS",
        "outputId": "6ba52ef5-a151-4d9a-be20-ad680b36a523"
      },
      "outputs": [
        {
          "output_type": "stream",
          "name": "stdout",
          "text": [
            "Downloading data from https://storage.googleapis.com/tensorflow/tf-keras-datasets/train-labels-idx1-ubyte.gz\n",
            "29515/29515 [==============================] - 0s 0us/step\n",
            "Downloading data from https://storage.googleapis.com/tensorflow/tf-keras-datasets/train-images-idx3-ubyte.gz\n",
            "26421880/26421880 [==============================] - 2s 0us/step\n",
            "Downloading data from https://storage.googleapis.com/tensorflow/tf-keras-datasets/t10k-labels-idx1-ubyte.gz\n",
            "5148/5148 [==============================] - 0s 0us/step\n",
            "Downloading data from https://storage.googleapis.com/tensorflow/tf-keras-datasets/t10k-images-idx3-ubyte.gz\n",
            "4422102/4422102 [==============================] - 0s 0us/step\n",
            "(60000, 784)\n",
            "(10000, 784)\n"
          ]
        }
      ],
      "source": [
        "(train_imagesi, train_labels), (test_imagesi, test_labels) = fashion_mnist.load_data()\n",
        "\n",
        "# Normalize the images.\n",
        "train_imagesi = (train_imagesi / 127) - 1\n",
        "test_imagesi = (test_imagesi / 127) - 1\n",
        "\n",
        "# Flatten the images.\n",
        "train_images = train_imagesi.reshape((-1, 784))\n",
        "test_images = test_imagesi.reshape((-1, 784))\n",
        "\n",
        "print(train_images.shape) # (60000, 784)\n",
        "print(test_images.shape)  # (10000, 784)"
      ]
    },
    {
      "cell_type": "code",
      "execution_count": null,
      "metadata": {
        "id": "Jt2fl0N2ZTsj"
      },
      "outputs": [],
      "source": [
        "import matplotlib.pyplot as plt"
      ]
    },
    {
      "cell_type": "code",
      "execution_count": null,
      "metadata": {
        "colab": {
          "base_uri": "https://localhost:8080/",
          "height": 283
        },
        "id": "DcYl7LdbZhvD",
        "outputId": "86b09b28-bf01-4432-d139-63d59fb7ad1a"
      },
      "outputs": [
        {
          "output_type": "display_data",
          "data": {
            "text/plain": [
              "<Figure size 432x288 with 1 Axes>"
            ],
            "image/png": "[encoded data removed]"
          },
          "metadata": {
            "needs_background": "light"
          }
        },
        {
          "output_type": "stream",
          "name": "stdout",
          "text": [
            "3\n"
          ]
        }
      ],
      "source": [
        "plt.imshow(train_imagesi[50,:,:])\n",
        "plt.show()\n",
        "print(train_labels[50])"
      ]
    },
    {
      "cell_type": "markdown",
      "metadata": {
        "id": "5oGSaY-SZ949"
      },
      "source": [
        "# Задание 1."
      ]
    },
    {
      "cell_type": "markdown",
      "metadata": {
        "id": "eyRt7fVlsSAr"
      },
      "source": [
        "### Зависимость от числа нейронов в слое (для 2-хслойной сети)"
      ]
    },
    {
      "cell_type": "code",
      "execution_count": null,
      "metadata": {
        "colab": {
          "base_uri": "https://localhost:8080/",
          "height": 1000
        },
        "id": "h1Wyu9EjZ-Vq",
        "outputId": "6e9b8a8f-1e23-461a-cf70-dde07279c68c"
      },
      "outputs": [
        {
          "output_type": "stream",
          "name": "stdout",
          "text": [
            "Epoch 1/15\n",
            "165/165 [==============================] - 2s 7ms/step - loss: 1.4879 - accuracy: 0.6885 - val_loss: 1.2146 - val_accuracy: 0.7833\n",
            "Epoch 2/15\n",
            "165/165 [==============================] - 1s 6ms/step - loss: 1.0523 - accuracy: 0.8139 - val_loss: 0.9234 - val_accuracy: 0.8249\n",
            "Epoch 3/15\n",
            "165/165 [==============================] - 1s 7ms/step - loss: 0.8233 - accuracy: 0.8407 - val_loss: 0.7536 - val_accuracy: 0.8398\n",
            "Epoch 4/15\n",
            "165/165 [==============================] - 1s 8ms/step - loss: 0.6786 - accuracy: 0.8573 - val_loss: 0.6451 - val_accuracy: 0.8529\n",
            "Epoch 5/15\n",
            "165/165 [==============================] - 1s 5ms/step - loss: 0.5862 - accuracy: 0.8632 - val_loss: 0.5694 - val_accuracy: 0.8577\n",
            "Epoch 6/15\n",
            "165/165 [==============================] - 1s 6ms/step - loss: 0.5259 - accuracy: 0.8702 - val_loss: 0.5231 - val_accuracy: 0.8616\n",
            "Epoch 7/15\n",
            "165/165 [==============================] - 1s 5ms/step - loss: 0.4756 - accuracy: 0.8759 - val_loss: 0.4780 - val_accuracy: 0.8697\n",
            "Epoch 8/15\n",
            "165/165 [==============================] - 1s 6ms/step - loss: 0.4386 - accuracy: 0.8817 - val_loss: 0.4543 - val_accuracy: 0.8718\n",
            "Epoch 9/15\n",
            "165/165 [==============================] - 1s 6ms/step - loss: 0.4088 - accuracy: 0.8859 - val_loss: 0.4694 - val_accuracy: 0.8566\n",
            "Epoch 10/15\n",
            "165/165 [==============================] - 1s 5ms/step - loss: 0.3863 - accuracy: 0.8895 - val_loss: 0.4261 - val_accuracy: 0.8701\n",
            "Epoch 11/15\n",
            "165/165 [==============================] - 1s 6ms/step - loss: 0.3655 - accuracy: 0.8930 - val_loss: 0.4068 - val_accuracy: 0.8722\n",
            "Epoch 12/15\n",
            "165/165 [==============================] - 1s 5ms/step - loss: 0.3463 - accuracy: 0.8953 - val_loss: 0.3942 - val_accuracy: 0.8788\n",
            "Epoch 13/15\n",
            "165/165 [==============================] - 1s 5ms/step - loss: 0.3310 - accuracy: 0.9006 - val_loss: 0.3860 - val_accuracy: 0.8792\n",
            "Epoch 14/15\n",
            "165/165 [==============================] - 1s 5ms/step - loss: 0.3160 - accuracy: 0.9036 - val_loss: 0.3926 - val_accuracy: 0.8693\n",
            "Epoch 15/15\n",
            "165/165 [==============================] - 1s 6ms/step - loss: 0.3097 - accuracy: 0.9037 - val_loss: 0.3758 - val_accuracy: 0.8778\n",
            "Epoch 1/15\n",
            "165/165 [==============================] - 2s 6ms/step - loss: 1.1821 - accuracy: 0.7006 - val_loss: 0.8201 - val_accuracy: 0.8021\n",
            "Epoch 2/15\n",
            "165/165 [==============================] - 1s 5ms/step - loss: 0.6867 - accuracy: 0.8264 - val_loss: 0.5955 - val_accuracy: 0.8372\n",
            "Epoch 3/15\n",
            "165/165 [==============================] - 1s 5ms/step - loss: 0.5357 - accuracy: 0.8468 - val_loss: 0.5009 - val_accuracy: 0.8494\n",
            "Epoch 4/15\n",
            "165/165 [==============================] - 1s 5ms/step - loss: 0.4602 - accuracy: 0.8605 - val_loss: 0.4448 - val_accuracy: 0.8601\n",
            "Epoch 5/15\n",
            "165/165 [==============================] - 1s 6ms/step - loss: 0.4171 - accuracy: 0.8674 - val_loss: 0.4132 - val_accuracy: 0.8661\n",
            "Epoch 6/15\n",
            "165/165 [==============================] - 1s 8ms/step - loss: 0.3864 - accuracy: 0.8726 - val_loss: 0.4183 - val_accuracy: 0.8574\n",
            "Epoch 7/15\n",
            "165/165 [==============================] - 2s 10ms/step - loss: 0.3637 - accuracy: 0.8790 - val_loss: 0.3942 - val_accuracy: 0.8654\n",
            "Epoch 8/15\n",
            "165/165 [==============================] - 2s 9ms/step - loss: 0.3415 - accuracy: 0.8858 - val_loss: 0.3834 - val_accuracy: 0.8656\n",
            "Epoch 9/15\n",
            "165/165 [==============================] - 2s 10ms/step - loss: 0.3284 - accuracy: 0.8877 - val_loss: 0.3722 - val_accuracy: 0.8723\n",
            "Epoch 10/15\n",
            "165/165 [==============================] - 2s 9ms/step - loss: 0.3123 - accuracy: 0.8934 - val_loss: 0.3642 - val_accuracy: 0.8729\n",
            "Epoch 11/15\n",
            "165/165 [==============================] - 2s 9ms/step - loss: 0.3047 - accuracy: 0.8953 - val_loss: 0.3511 - val_accuracy: 0.8781\n",
            "Epoch 12/15\n",
            "165/165 [==============================] - 2s 10ms/step - loss: 0.2893 - accuracy: 0.9003 - val_loss: 0.3412 - val_accuracy: 0.8813\n",
            "Epoch 13/15\n",
            "165/165 [==============================] - 2s 14ms/step - loss: 0.2796 - accuracy: 0.9034 - val_loss: 0.3426 - val_accuracy: 0.8818\n",
            "Epoch 14/15\n",
            "165/165 [==============================] - 2s 14ms/step - loss: 0.2735 - accuracy: 0.9055 - val_loss: 0.3482 - val_accuracy: 0.8771\n",
            "Epoch 15/15\n",
            "165/165 [==============================] - 1s 9ms/step - loss: 0.2641 - accuracy: 0.9074 - val_loss: 0.3457 - val_accuracy: 0.8785\n",
            "Epoch 1/15\n",
            "165/165 [==============================] - 2s 9ms/step - loss: 1.0102 - accuracy: 0.7392 - val_loss: 0.6640 - val_accuracy: 0.8147\n",
            "Epoch 2/15\n",
            "165/165 [==============================] - 1s 5ms/step - loss: 0.5685 - accuracy: 0.8322 - val_loss: 0.5031 - val_accuracy: 0.8428\n",
            "Epoch 3/15\n",
            "165/165 [==============================] - 1s 5ms/step - loss: 0.4634 - accuracy: 0.8527 - val_loss: 0.4418 - val_accuracy: 0.8546\n",
            "Epoch 4/15\n",
            "165/165 [==============================] - 1s 5ms/step - loss: 0.4101 - accuracy: 0.8643 - val_loss: 0.4150 - val_accuracy: 0.8572\n",
            "Epoch 5/15\n",
            "165/165 [==============================] - 1s 5ms/step - loss: 0.3796 - accuracy: 0.8716 - val_loss: 0.3998 - val_accuracy: 0.8619\n",
            "Epoch 6/15\n",
            "165/165 [==============================] - 1s 7ms/step - loss: 0.3559 - accuracy: 0.8787 - val_loss: 0.3802 - val_accuracy: 0.8678\n",
            "Epoch 7/15\n",
            "165/165 [==============================] - 1s 8ms/step - loss: 0.3373 - accuracy: 0.8835 - val_loss: 0.3603 - val_accuracy: 0.8741\n",
            "Epoch 8/15\n",
            "165/165 [==============================] - 1s 5ms/step - loss: 0.3191 - accuracy: 0.8900 - val_loss: 0.3589 - val_accuracy: 0.8727\n",
            "Epoch 9/15\n",
            "165/165 [==============================] - 1s 5ms/step - loss: 0.3069 - accuracy: 0.8933 - val_loss: 0.3528 - val_accuracy: 0.8773\n",
            "Epoch 10/15\n",
            "165/165 [==============================] - 1s 5ms/step - loss: 0.2992 - accuracy: 0.8941 - val_loss: 0.3438 - val_accuracy: 0.8787\n",
            "Epoch 11/15\n",
            "165/165 [==============================] - 1s 5ms/step - loss: 0.2840 - accuracy: 0.9005 - val_loss: 0.3470 - val_accuracy: 0.8775\n",
            "Epoch 12/15\n",
            "165/165 [==============================] - 1s 5ms/step - loss: 0.2730 - accuracy: 0.9041 - val_loss: 0.3637 - val_accuracy: 0.8709\n",
            "Epoch 13/15\n",
            "165/165 [==============================] - 1s 5ms/step - loss: 0.2726 - accuracy: 0.9032 - val_loss: 0.3291 - val_accuracy: 0.8839\n",
            "Epoch 14/15\n",
            "165/165 [==============================] - 1s 5ms/step - loss: 0.2574 - accuracy: 0.9094 - val_loss: 0.3304 - val_accuracy: 0.8822\n",
            "Epoch 15/15\n",
            "165/165 [==============================] - 1s 6ms/step - loss: 0.2524 - accuracy: 0.9102 - val_loss: 0.3320 - val_accuracy: 0.8822\n",
            "Epoch 1/15\n",
            "165/165 [==============================] - 2s 6ms/step - loss: 0.8624 - accuracy: 0.7529 - val_loss: 0.5796 - val_accuracy: 0.8165\n",
            "Epoch 2/15\n",
            "165/165 [==============================] - 1s 5ms/step - loss: 0.5047 - accuracy: 0.8385 - val_loss: 0.4673 - val_accuracy: 0.8441\n",
            "Epoch 3/15\n",
            "165/165 [==============================] - 1s 5ms/step - loss: 0.4302 - accuracy: 0.8548 - val_loss: 0.4225 - val_accuracy: 0.8541\n",
            "Epoch 4/15\n",
            "165/165 [==============================] - 1s 5ms/step - loss: 0.3914 - accuracy: 0.8642 - val_loss: 0.4004 - val_accuracy: 0.8597\n",
            "Epoch 5/15\n",
            "165/165 [==============================] - 1s 5ms/step - loss: 0.3613 - accuracy: 0.8728 - val_loss: 0.3781 - val_accuracy: 0.8678\n",
            "Epoch 6/15\n",
            "165/165 [==============================] - 1s 5ms/step - loss: 0.3388 - accuracy: 0.8805 - val_loss: 0.3794 - val_accuracy: 0.8669\n",
            "Epoch 7/15\n",
            "165/165 [==============================] - 1s 5ms/step - loss: 0.3244 - accuracy: 0.8847 - val_loss: 0.3743 - val_accuracy: 0.8628\n",
            "Epoch 8/15\n",
            "165/165 [==============================] - 1s 5ms/step - loss: 0.3132 - accuracy: 0.8885 - val_loss: 0.3563 - val_accuracy: 0.8744\n",
            "Epoch 9/15\n",
            "165/165 [==============================] - 1s 7ms/step - loss: 0.2985 - accuracy: 0.8925 - val_loss: 0.3391 - val_accuracy: 0.8767\n",
            "Epoch 10/15\n",
            "165/165 [==============================] - 1s 7ms/step - loss: 0.2867 - accuracy: 0.8971 - val_loss: 0.3400 - val_accuracy: 0.8764\n",
            "Epoch 11/15\n",
            "165/165 [==============================] - 1s 5ms/step - loss: 0.2784 - accuracy: 0.8996 - val_loss: 0.3294 - val_accuracy: 0.8817\n",
            "Epoch 12/15\n",
            "165/165 [==============================] - 1s 5ms/step - loss: 0.2685 - accuracy: 0.9041 - val_loss: 0.3305 - val_accuracy: 0.8806\n",
            "Epoch 13/15\n",
            "165/165 [==============================] - 1s 5ms/step - loss: 0.2600 - accuracy: 0.9055 - val_loss: 0.3274 - val_accuracy: 0.8817\n",
            "Epoch 14/15\n",
            "165/165 [==============================] - 1s 6ms/step - loss: 0.2513 - accuracy: 0.9102 - val_loss: 0.3261 - val_accuracy: 0.8819\n",
            "Epoch 15/15\n",
            "165/165 [==============================] - 1s 5ms/step - loss: 0.2450 - accuracy: 0.9125 - val_loss: 0.3247 - val_accuracy: 0.8810\n",
            "Epoch 1/15\n",
            "165/165 [==============================] - 2s 6ms/step - loss: 0.8639 - accuracy: 0.7390 - val_loss: 0.5605 - val_accuracy: 0.8226\n",
            "Epoch 2/15\n",
            "165/165 [==============================] - 1s 6ms/step - loss: 0.4946 - accuracy: 0.8379 - val_loss: 0.4656 - val_accuracy: 0.8369\n",
            "Epoch 3/15\n",
            "165/165 [==============================] - 1s 6ms/step - loss: 0.4256 - accuracy: 0.8538 - val_loss: 0.4165 - val_accuracy: 0.8547\n",
            "Epoch 4/15\n",
            "165/165 [==============================] - 1s 7ms/step - loss: 0.3842 - accuracy: 0.8662 - val_loss: 0.4115 - val_accuracy: 0.8562\n",
            "Epoch 5/15\n",
            "165/165 [==============================] - 1s 7ms/step - loss: 0.3625 - accuracy: 0.8712 - val_loss: 0.3738 - val_accuracy: 0.8658\n",
            "Epoch 6/15\n",
            "165/165 [==============================] - 1s 6ms/step - loss: 0.3382 - accuracy: 0.8800 - val_loss: 0.3611 - val_accuracy: 0.8747\n",
            "Epoch 7/15\n",
            "165/165 [==============================] - 1s 7ms/step - loss: 0.3265 - accuracy: 0.8830 - val_loss: 0.3592 - val_accuracy: 0.8729\n",
            "Epoch 8/15\n",
            "165/165 [==============================] - 1s 6ms/step - loss: 0.3068 - accuracy: 0.8918 - val_loss: 0.3487 - val_accuracy: 0.8739\n",
            "Epoch 9/15\n",
            "165/165 [==============================] - 1s 6ms/step - loss: 0.2950 - accuracy: 0.8952 - val_loss: 0.3374 - val_accuracy: 0.8802\n",
            "Epoch 10/15\n",
            "165/165 [==============================] - 1s 9ms/step - loss: 0.2851 - accuracy: 0.8985 - val_loss: 0.3439 - val_accuracy: 0.8754\n",
            "Epoch 11/15\n",
            "165/165 [==============================] - 1s 7ms/step - loss: 0.2773 - accuracy: 0.9008 - val_loss: 0.3347 - val_accuracy: 0.8796\n",
            "Epoch 12/15\n",
            "165/165 [==============================] - 1s 6ms/step - loss: 0.2668 - accuracy: 0.9046 - val_loss: 0.3570 - val_accuracy: 0.8670\n",
            "Epoch 13/15\n",
            "165/165 [==============================] - 1s 6ms/step - loss: 0.2631 - accuracy: 0.9057 - val_loss: 0.3231 - val_accuracy: 0.8836\n",
            "Epoch 14/15\n",
            "165/165 [==============================] - 1s 7ms/step - loss: 0.2498 - accuracy: 0.9102 - val_loss: 0.3227 - val_accuracy: 0.8842\n",
            "Epoch 15/15\n",
            "165/165 [==============================] - 1s 7ms/step - loss: 0.2430 - accuracy: 0.9135 - val_loss: 0.3159 - val_accuracy: 0.8884\n"
          ]
        },
        {
          "output_type": "display_data",
          "data": {
            "text/plain": [
              "<Figure size 1152x504 with 1 Axes>"
            ],
            "image/png": "[encoded data removed]"
          },
          "metadata": {
            "needs_background": "light"
          }
        }
      ],
      "source": [
        "plt.figure(figsize=(16,7))\n",
        "\n",
        "epochs = 15\n",
        "\n",
        "result = []\n",
        "for neuron_num in [10, 20, 30, 40, 50]:\n",
        "\n",
        "  # Build the model.\n",
        "  model = Sequential([ Dense(128, activation='relu', input_shape=(784,)),\n",
        "                       Dense(neuron_num, activation='sigmoid'),\n",
        "                       Dense(10, activation='softmax')]\n",
        "                     )\n",
        "\n",
        "  # Compile the model.\n",
        "  model.compile(\n",
        "      optimizer='adam',\n",
        "      loss=keras.losses.CategoricalCrossentropy(),\n",
        "      metrics=['accuracy'],\n",
        "  )\n",
        "\n",
        "  # Train the model.\n",
        "  history = model.fit(\n",
        "      train_images,\n",
        "      to_categorical(train_labels, 10),\n",
        "      epochs=epochs,\n",
        "      batch_size=256,\n",
        "      validation_split=0.3\n",
        "  )\n",
        "\n",
        "  # результаты\n",
        "  model_name = f'Model of {neuron_num} neurons'\n",
        "  model_accuracy = history.history['accuracy'][epochs-1]\n",
        "  model_val_accuracy = history.history['val_accuracy'][epochs-1]\n",
        "  result.append([model_name, model_accuracy, model_val_accuracy])\n",
        "\n",
        "\n",
        "  plt.plot(np.arange(epochs), history.history['loss'],    '-',  label = f'{neuron_num} - train')\n",
        "  plt.plot(np.arange(epochs), history.history['val_loss'],'--', label = f'{neuron_num} - validation')\n",
        "\n",
        "plt.legend()\n",
        "plt.grid('On')\n",
        "plt.xlabel('epoch')\n",
        "plt.ylabel('loss')\n",
        "plt.show()"
      ]
    },
    {
      "cell_type": "code",
      "execution_count": null,
      "metadata": {
        "colab": {
          "base_uri": "https://localhost:8080/",
          "height": 206
        },
        "id": "SZ_1hBvpkzWL",
        "outputId": "b1423d65-debb-4aa8-8a12-dcd47db00fb0"
      },
      "outputs": [
        {
          "output_type": "execute_result",
          "data": {
            "text/plain": [
              "            model_name  model_accuracy  model_val_accuracy\n",
              "4  Model of 50 neurons        0.913452            0.888444\n",
              "2  Model of 30 neurons        0.910238            0.882167\n",
              "3  Model of 40 neurons        0.912452            0.881000\n",
              "1  Model of 20 neurons        0.907405            0.878500\n",
              "0  Model of 10 neurons        0.903738            0.877778"
            ],
            "text/html": [
              "\n",
              "  <div id=\"df-31b6656e-78ab-4e20-925c-ce1b63ca59ee\">\n",
              "    <div class=\"colab-df-container\">\n",
              "      <div>\n",
              "<style scoped>\n",
              "    .dataframe tbody tr th:only-of-type {\n",
              "        vertical-align: middle;\n",
              "    }\n",
              "\n",
              "    .dataframe tbody tr th {\n",
              "        vertical-align: top;\n",
              "    }\n",
              "\n",
              "    .dataframe thead th {\n",
              "        text-align: right;\n",
              "    }\n",
              "</style>\n",
              "<table border=\"1\" class=\"dataframe\">\n",
              "  <thead>\n",
              "    <tr style=\"text-align: right;\">\n",
              "      <th></th>\n",
              "      <th>model_name</th>\n",
              "      <th>model_accuracy</th>\n",
              "      <th>model_val_accuracy</th>\n",
              "    </tr>\n",
              "  </thead>\n",
              "  <tbody>\n",
              "    <tr>\n",
              "      <th>4</th>\n",
              "      <td>Model of 50 neurons</td>\n",
              "      <td>0.913452</td>\n",
              "      <td>0.888444</td>\n",
              "    </tr>\n",
              "    <tr>\n",
              "      <th>2</th>\n",
              "      <td>Model of 30 neurons</td>\n",
              "      <td>0.910238</td>\n",
              "      <td>0.882167</td>\n",
              "    </tr>\n",
              "    <tr>\n",
              "      <th>3</th>\n",
              "      <td>Model of 40 neurons</td>\n",
              "      <td>0.912452</td>\n",
              "      <td>0.881000</td>\n",
              "    </tr>\n",
              "    <tr>\n",
              "      <th>1</th>\n",
              "      <td>Model of 20 neurons</td>\n",
              "      <td>0.907405</td>\n",
              "      <td>0.878500</td>\n",
              "    </tr>\n",
              "    <tr>\n",
              "      <th>0</th>\n",
              "      <td>Model of 10 neurons</td>\n",
              "      <td>0.903738</td>\n",
              "      <td>0.877778</td>\n",
              "    </tr>\n",
              "  </tbody>\n",
              "</table>\n",
              "</div>\n",
              "      <button class=\"colab-df-convert\" onclick=\"convertToInteractive('df-31b6656e-78ab-4e20-925c-ce1b63ca59ee')\"\n",
              "              title=\"Convert this dataframe to an interactive table.\"\n",
              "              style=\"display:none;\">\n",
              "        \n",
              "  <svg xmlns=\"http://www.w3.org/2000/svg\" height=\"24px\"viewBox=\"0 0 24 24\"\n",
              "       width=\"24px\">\n",
              "    <path d=\"M0 0h24v24H0V0z\" fill=\"none\"/>\n",
              "    <path d=\"M18.56 5.44l.94 2.06.94-2.06 2.06-.94-2.06-.94-.94-2.06-.94 2.06-2.06.94zm-11 1L8.5 8.5l.94-2.06 2.06-.94-2.06-.94L8.5 2.5l-.94 2.06-2.06.94zm10 10l.94 2.06.94-2.06 2.06-.94-2.06-.94-.94-2.06-.94 2.06-2.06.94z\"/><path d=\"M17.41 7.96l-1.37-1.37c-.4-.4-.92-.59-1.43-.59-.52 0-1.04.2-1.43.59L10.3 9.45l-7.72 7.72c-.78.78-.78 2.05 0 2.83L4 21.41c.39.39.9.59 1.41.59.51 0 1.02-.2 1.41-.59l7.78-7.78 2.81-2.81c.8-.78.8-2.07 0-2.86zM5.41 20L4 18.59l7.72-7.72 1.47 1.35L5.41 20z\"/>\n",
              "  </svg>\n",
              "      </button>\n",
              "      \n",
              "  <style>\n",
              "    .colab-df-container {\n",
              "      display:flex;\n",
              "      flex-wrap:wrap;\n",
              "      gap: 12px;\n",
              "    }\n",
              "\n",
              "    .colab-df-convert {\n",
              "      background-color: #E8F0FE;\n",
              "      border: none;\n",
              "      border-radius: 50%;\n",
              "      cursor: pointer;\n",
              "      display: none;\n",
              "      fill: #1967D2;\n",
              "      height: 32px;\n",
              "      padding: 0 0 0 0;\n",
              "      width: 32px;\n",
              "    }\n",
              "\n",
              "    .colab-df-convert:hover {\n",
              "      background-color: #E2EBFA;\n",
              "      box-shadow: 0px 1px 2px rgba(60, 64, 67, 0.3), 0px 1px 3px 1px rgba(60, 64, 67, 0.15);\n",
              "      fill: #174EA6;\n",
              "    }\n",
              "\n",
              "    [theme=dark] .colab-df-convert {\n",
              "      background-color: #3B4455;\n",
              "      fill: #D2E3FC;\n",
              "    }\n",
              "\n",
              "    [theme=dark] .colab-df-convert:hover {\n",
              "      background-color: #434B5C;\n",
              "      box-shadow: 0px 1px 3px 1px rgba(0, 0, 0, 0.15);\n",
              "      filter: drop-shadow(0px 1px 2px rgba(0, 0, 0, 0.3));\n",
              "      fill: #FFFFFF;\n",
              "    }\n",
              "  </style>\n",
              "\n",
              "      <script>\n",
              "        const buttonEl =\n",
              "          document.querySelector('#df-31b6656e-78ab-4e20-925c-ce1b63ca59ee button.colab-df-convert');\n",
              "        buttonEl.style.display =\n",
              "          google.colab.kernel.accessAllowed ? 'block' : 'none';\n",
              "\n",
              "        async function convertToInteractive(key) {\n",
              "          const element = document.querySelector('#df-31b6656e-78ab-4e20-925c-ce1b63ca59ee');\n",
              "          const dataTable =\n",
              "            await google.colab.kernel.invokeFunction('convertToInteractive',\n",
              "                                                     [key], {});\n",
              "          if (!dataTable) return;\n",
              "\n",
              "          const docLinkHtml = 'Like what you see? Visit the ' +\n",
              "            '<a target=\"_blank\" href=https://colab.research.google.com/notebooks/data_table.ipynb>data table notebook</a>'\n",
              "            + ' to learn more about interactive tables.';\n",
              "          element.innerHTML = '';\n",
              "          dataTable['output_type'] = 'display_data';\n",
              "          await google.colab.output.renderOutput(dataTable, element);\n",
              "          const docLink = document.createElement('div');\n",
              "          docLink.innerHTML = docLinkHtml;\n",
              "          element.appendChild(docLink);\n",
              "        }\n",
              "      </script>\n",
              "    </div>\n",
              "  </div>\n",
              "  "
            ]
          },
          "metadata": {},
          "execution_count": 6
        }
      ],
      "source": [
        "result_table = pd.DataFrame(result, columns=['model_name', 'model_accuracy', 'model_val_accuracy']).sort_values('model_val_accuracy', ascending=False)\n",
        "result_table.head(5)"
      ]
    },
    {
      "cell_type": "markdown",
      "metadata": {
        "id": "LzTBsd6ZlIV4"
      },
      "source": [
        "В двуслойной модели увеличение количества нейронов в скрытом слое повышает точность обучения на тренировочной выборке. Однако наилучшая точность на валидационной выборке - при 30 нейронах в скрытом слое, что, по всей видимости, говорит о переобучении, при большем количестве нейроов"
      ]
    },
    {
      "cell_type": "markdown",
      "metadata": {
        "id": "_3y1dkzmsmSO"
      },
      "source": [
        "### Зависимость от числа слоев"
      ]
    },
    {
      "cell_type": "code",
      "execution_count": null,
      "metadata": {
        "id": "_F0jdmxksrGm"
      },
      "outputs": [],
      "source": [
        "neuron_num = 30\n",
        "result = []"
      ]
    },
    {
      "cell_type": "code",
      "execution_count": null,
      "metadata": {
        "colab": {
          "base_uri": "https://localhost:8080/"
        },
        "id": "kL0hCEclt-Pj",
        "outputId": "934ced41-9518-4123-b166-919ec98d5656"
      },
      "outputs": [
        {
          "output_type": "stream",
          "name": "stdout",
          "text": [
            "Epoch 1/15\n",
            "165/165 [==============================] - 2s 6ms/step - loss: 1.0468 - accuracy: 0.7197 - val_loss: 0.6921 - val_accuracy: 0.8102\n",
            "Epoch 2/15\n",
            "165/165 [==============================] - 1s 6ms/step - loss: 0.5800 - accuracy: 0.8321 - val_loss: 0.5156 - val_accuracy: 0.8406\n",
            "Epoch 3/15\n",
            "165/165 [==============================] - 1s 6ms/step - loss: 0.4657 - accuracy: 0.8508 - val_loss: 0.4530 - val_accuracy: 0.8513\n",
            "Epoch 4/15\n",
            "165/165 [==============================] - 1s 5ms/step - loss: 0.4136 - accuracy: 0.8635 - val_loss: 0.4103 - val_accuracy: 0.8617\n",
            "Epoch 5/15\n",
            "165/165 [==============================] - 1s 8ms/step - loss: 0.3831 - accuracy: 0.8694 - val_loss: 0.3957 - val_accuracy: 0.8645\n",
            "Epoch 6/15\n",
            "165/165 [==============================] - 1s 7ms/step - loss: 0.3561 - accuracy: 0.8787 - val_loss: 0.3780 - val_accuracy: 0.8692\n",
            "Epoch 7/15\n",
            "165/165 [==============================] - 1s 6ms/step - loss: 0.3382 - accuracy: 0.8824 - val_loss: 0.3699 - val_accuracy: 0.8699\n",
            "Epoch 8/15\n",
            "165/165 [==============================] - 1s 8ms/step - loss: 0.3216 - accuracy: 0.8878 - val_loss: 0.3611 - val_accuracy: 0.8707\n",
            "Epoch 9/15\n",
            "165/165 [==============================] - 1s 8ms/step - loss: 0.3116 - accuracy: 0.8904 - val_loss: 0.3643 - val_accuracy: 0.8737\n",
            "Epoch 10/15\n",
            "165/165 [==============================] - 1s 6ms/step - loss: 0.2969 - accuracy: 0.8959 - val_loss: 0.3522 - val_accuracy: 0.8758\n",
            "Epoch 11/15\n",
            "165/165 [==============================] - 1s 5ms/step - loss: 0.2899 - accuracy: 0.8972 - val_loss: 0.3458 - val_accuracy: 0.8778\n",
            "Epoch 12/15\n",
            "165/165 [==============================] - 1s 5ms/step - loss: 0.2777 - accuracy: 0.9009 - val_loss: 0.3389 - val_accuracy: 0.8807\n",
            "Epoch 13/15\n",
            "165/165 [==============================] - 1s 5ms/step - loss: 0.2678 - accuracy: 0.9045 - val_loss: 0.3367 - val_accuracy: 0.8799\n",
            "Epoch 14/15\n",
            "165/165 [==============================] - 1s 6ms/step - loss: 0.2639 - accuracy: 0.9059 - val_loss: 0.3446 - val_accuracy: 0.8784\n",
            "Epoch 15/15\n",
            "165/165 [==============================] - 1s 6ms/step - loss: 0.2551 - accuracy: 0.9087 - val_loss: 0.3253 - val_accuracy: 0.8833\n",
            "313/313 [==============================] - 0s 1ms/step - loss: 0.3548 - accuracy: 0.8745\n"
          ]
        }
      ],
      "source": [
        "# 2-слойноая модель\n",
        "\n",
        "# Build the model.\n",
        "model = Sequential([\n",
        "  Dense(128, activation='relu', input_shape=(784,)),\n",
        "  Dense(neuron_num, activation='sigmoid'),\n",
        "  Dense(10, activation='softmax'),\n",
        "])\n",
        "\n",
        "# Compile the model.\n",
        "model.compile(\n",
        "    optimizer='adam',\n",
        "    loss=keras.losses.CategoricalCrossentropy(),\n",
        "    metrics=['accuracy'],\n",
        ")\n",
        "\n",
        "# Train the model.\n",
        "history = model.fit(\n",
        "    train_images,\n",
        "    to_categorical(train_labels, 10),\n",
        "    epochs=epochs,\n",
        "    batch_size=256,\n",
        "    validation_split=0.3\n",
        ")\n",
        "\n",
        "# Evaluate the model.\n",
        "test_scores = model.evaluate(\n",
        "  test_images,\n",
        "  to_categorical(test_labels)\n",
        ")\n",
        "\n",
        "# накопление результатов\n",
        "model_name = '2-слойная сеть'\n",
        "model_accuracy = history.history['accuracy'][epochs-1]\n",
        "model_val_accuracy = history.history['val_accuracy'][epochs-1]\n",
        "test_accuracy = test_scores[1]\n",
        "\n",
        "result.append([model_name, model_accuracy, model_val_accuracy, test_accuracy])"
      ]
    },
    {
      "cell_type": "code",
      "execution_count": null,
      "metadata": {
        "colab": {
          "base_uri": "https://localhost:8080/"
        },
        "id": "qaI8nhA5usdk",
        "outputId": "8c6d76be-b7fc-48d6-b758-15f686cd6c3c"
      },
      "outputs": [
        {
          "output_type": "stream",
          "name": "stdout",
          "text": [
            "Epoch 1/15\n",
            "165/165 [==============================] - 2s 8ms/step - loss: 1.6263 - accuracy: 0.6738 - val_loss: 1.1642 - val_accuracy: 0.7814\n",
            "Epoch 2/15\n",
            "165/165 [==============================] - 1s 5ms/step - loss: 0.8916 - accuracy: 0.8041 - val_loss: 0.7043 - val_accuracy: 0.8218\n",
            "Epoch 3/15\n",
            "165/165 [==============================] - 1s 6ms/step - loss: 0.6027 - accuracy: 0.8387 - val_loss: 0.5445 - val_accuracy: 0.8386\n",
            "Epoch 4/15\n",
            "165/165 [==============================] - 1s 6ms/step - loss: 0.4879 - accuracy: 0.8548 - val_loss: 0.4745 - val_accuracy: 0.8501\n",
            "Epoch 5/15\n",
            "165/165 [==============================] - 1s 7ms/step - loss: 0.4308 - accuracy: 0.8633 - val_loss: 0.4419 - val_accuracy: 0.8592\n",
            "Epoch 6/15\n",
            "165/165 [==============================] - 1s 7ms/step - loss: 0.3881 - accuracy: 0.8736 - val_loss: 0.4071 - val_accuracy: 0.8636\n",
            "Epoch 7/15\n",
            "165/165 [==============================] - 1s 6ms/step - loss: 0.3631 - accuracy: 0.8796 - val_loss: 0.3984 - val_accuracy: 0.8637\n",
            "Epoch 8/15\n",
            "165/165 [==============================] - 1s 5ms/step - loss: 0.3411 - accuracy: 0.8854 - val_loss: 0.3810 - val_accuracy: 0.8674\n",
            "Epoch 9/15\n",
            "165/165 [==============================] - 1s 5ms/step - loss: 0.3269 - accuracy: 0.8880 - val_loss: 0.3694 - val_accuracy: 0.8744\n",
            "Epoch 10/15\n",
            "165/165 [==============================] - 1s 5ms/step - loss: 0.3133 - accuracy: 0.8924 - val_loss: 0.3591 - val_accuracy: 0.8763\n",
            "Epoch 11/15\n",
            "165/165 [==============================] - 1s 6ms/step - loss: 0.2940 - accuracy: 0.8986 - val_loss: 0.3448 - val_accuracy: 0.8814\n",
            "Epoch 12/15\n",
            "165/165 [==============================] - 1s 5ms/step - loss: 0.2851 - accuracy: 0.9020 - val_loss: 0.3468 - val_accuracy: 0.8807\n",
            "Epoch 13/15\n",
            "165/165 [==============================] - 1s 5ms/step - loss: 0.2781 - accuracy: 0.9030 - val_loss: 0.3467 - val_accuracy: 0.8776\n",
            "Epoch 14/15\n",
            "165/165 [==============================] - 1s 6ms/step - loss: 0.2646 - accuracy: 0.9078 - val_loss: 0.3325 - val_accuracy: 0.8828\n",
            "Epoch 15/15\n",
            "165/165 [==============================] - 1s 5ms/step - loss: 0.2560 - accuracy: 0.9121 - val_loss: 0.3321 - val_accuracy: 0.8849\n",
            "313/313 [==============================] - 0s 1ms/step - loss: 0.3625 - accuracy: 0.8745\n"
          ]
        }
      ],
      "source": [
        "# 3-слойноая модель\n",
        "\n",
        "# Build the model.\n",
        "model = Sequential([\n",
        "  Dense(128, activation='relu', input_shape=(784,)),\n",
        "  Dense(neuron_num, activation='sigmoid'),\n",
        "  Dense(neuron_num, activation='sigmoid'),\n",
        "  Dense(10, activation='softmax'),\n",
        "])\n",
        "\n",
        "# Compile the model.\n",
        "model.compile(\n",
        "    optimizer='adam',\n",
        "    loss=keras.losses.CategoricalCrossentropy(),\n",
        "    metrics=['accuracy'],\n",
        ")\n",
        "\n",
        "# Train the model.\n",
        "history = model.fit(\n",
        "    train_images,\n",
        "    to_categorical(train_labels, 10),\n",
        "    epochs=epochs,\n",
        "    batch_size=256,\n",
        "    validation_split=0.3\n",
        ")\n",
        "\n",
        "# Evaluate the model.\n",
        "test_scores = model.evaluate(\n",
        "  test_images,\n",
        "  to_categorical(test_labels)\n",
        ")\n",
        "\n",
        "# накопление результатов\n",
        "model_name = '3-слойная сеть'\n",
        "model_accuracy = history.history['accuracy'][epochs-1]\n",
        "model_val_accuracy = history.history['val_accuracy'][epochs-1]\n",
        "test_accuracy = test_scores[1]\n",
        "\n",
        "result.append([model_name, model_accuracy, model_val_accuracy, test_accuracy])"
      ]
    },
    {
      "cell_type": "code",
      "execution_count": null,
      "metadata": {
        "colab": {
          "base_uri": "https://localhost:8080/"
        },
        "id": "rh0MLObjvUdk",
        "outputId": "c3f3439f-3df3-43a2-9092-3fd3174f1db7"
      },
      "outputs": [
        {
          "output_type": "stream",
          "name": "stdout",
          "text": [
            "Epoch 1/15\n",
            "165/165 [==============================] - 2s 7ms/step - loss: 2.1260 - accuracy: 0.2370 - val_loss: 1.7957 - val_accuracy: 0.3748\n",
            "Epoch 2/15\n",
            "165/165 [==============================] - 1s 6ms/step - loss: 1.5587 - accuracy: 0.3921 - val_loss: 1.3306 - val_accuracy: 0.3980\n",
            "Epoch 3/15\n",
            "165/165 [==============================] - 1s 6ms/step - loss: 1.2076 - accuracy: 0.4620 - val_loss: 1.1446 - val_accuracy: 0.4833\n",
            "Epoch 4/15\n",
            "165/165 [==============================] - 1s 6ms/step - loss: 1.0632 - accuracy: 0.5729 - val_loss: 0.9970 - val_accuracy: 0.5654\n",
            "Epoch 5/15\n",
            "165/165 [==============================] - 1s 6ms/step - loss: 0.9088 - accuracy: 0.6434 - val_loss: 0.8512 - val_accuracy: 0.6564\n",
            "Epoch 6/15\n",
            "165/165 [==============================] - 1s 8ms/step - loss: 0.7893 - accuracy: 0.6997 - val_loss: 0.7652 - val_accuracy: 0.7259\n",
            "Epoch 7/15\n",
            "165/165 [==============================] - 1s 9ms/step - loss: 0.7109 - accuracy: 0.7392 - val_loss: 0.6938 - val_accuracy: 0.7464\n",
            "Epoch 8/15\n",
            "165/165 [==============================] - 1s 6ms/step - loss: 0.6315 - accuracy: 0.7790 - val_loss: 0.6277 - val_accuracy: 0.7755\n",
            "Epoch 9/15\n",
            "165/165 [==============================] - 1s 7ms/step - loss: 0.5748 - accuracy: 0.8004 - val_loss: 0.5826 - val_accuracy: 0.8119\n",
            "Epoch 10/15\n",
            "165/165 [==============================] - 1s 6ms/step - loss: 0.5327 - accuracy: 0.8183 - val_loss: 0.5520 - val_accuracy: 0.8161\n",
            "Epoch 11/15\n",
            "165/165 [==============================] - 1s 7ms/step - loss: 0.4972 - accuracy: 0.8388 - val_loss: 0.5425 - val_accuracy: 0.8276\n",
            "Epoch 12/15\n",
            "165/165 [==============================] - 1s 6ms/step - loss: 0.4821 - accuracy: 0.8480 - val_loss: 0.5115 - val_accuracy: 0.8427\n",
            "Epoch 13/15\n",
            "165/165 [==============================] - 1s 6ms/step - loss: 0.4408 - accuracy: 0.8633 - val_loss: 0.4884 - val_accuracy: 0.8479\n",
            "Epoch 14/15\n",
            "165/165 [==============================] - 1s 6ms/step - loss: 0.4208 - accuracy: 0.8692 - val_loss: 0.4818 - val_accuracy: 0.8513\n",
            "Epoch 15/15\n",
            "165/165 [==============================] - 1s 6ms/step - loss: 0.4021 - accuracy: 0.8725 - val_loss: 0.4602 - val_accuracy: 0.8574\n",
            "313/313 [==============================] - 0s 1ms/step - loss: 0.4732 - accuracy: 0.8496\n"
          ]
        }
      ],
      "source": [
        "# 5-слойноая модель\n",
        "\n",
        "# Build the model.\n",
        "model = Sequential([\n",
        "  Dense(128, activation='relu', input_shape=(784,)),\n",
        "  Dense(neuron_num, activation='sigmoid'),\n",
        "  Dense(neuron_num, activation='sigmoid'),\n",
        "  Dense(neuron_num, activation='sigmoid'),\n",
        "  Dense(neuron_num, activation='sigmoid'),\n",
        "  Dense(10, activation='softmax'),\n",
        "])\n",
        "\n",
        "# Compile the model.\n",
        "model.compile(\n",
        "    optimizer='adam',\n",
        "    loss=keras.losses.CategoricalCrossentropy(),\n",
        "    metrics=['accuracy'],\n",
        ")\n",
        "\n",
        "# Train the model.\n",
        "history = model.fit(\n",
        "    train_images,\n",
        "    to_categorical(train_labels, 10),\n",
        "    epochs=epochs,\n",
        "    batch_size=256,\n",
        "    validation_split=0.3\n",
        ")\n",
        "\n",
        "# Evaluate the model.\n",
        "test_scores = model.evaluate(\n",
        "  test_images,\n",
        "  to_categorical(test_labels)\n",
        ")\n",
        "\n",
        "# накопление результатов\n",
        "model_name = '5-слойная сеть'\n",
        "model_accuracy = history.history['accuracy'][epochs-1]\n",
        "model_val_accuracy = history.history['val_accuracy'][epochs-1]\n",
        "test_accuracy = test_scores[1]\n",
        "\n",
        "result.append([model_name, model_accuracy, model_val_accuracy, test_accuracy])"
      ]
    },
    {
      "cell_type": "code",
      "execution_count": null,
      "metadata": {
        "colab": {
          "base_uri": "https://localhost:8080/"
        },
        "id": "ohvokeVhv6BL",
        "outputId": "ec2df2fa-4f49-45ce-a05a-b0aee4da2b72"
      },
      "outputs": [
        {
          "output_type": "stream",
          "name": "stdout",
          "text": [
            "Epoch 1/15\n",
            "165/165 [==============================] - 3s 10ms/step - loss: 2.1164 - accuracy: 0.3112 - val_loss: 1.7080 - val_accuracy: 0.3822\n",
            "Epoch 2/15\n",
            "165/165 [==============================] - 1s 6ms/step - loss: 1.3674 - accuracy: 0.4665 - val_loss: 1.1700 - val_accuracy: 0.5671\n",
            "Epoch 3/15\n",
            "165/165 [==============================] - 1s 6ms/step - loss: 1.0554 - accuracy: 0.6298 - val_loss: 0.9932 - val_accuracy: 0.6804\n",
            "Epoch 4/15\n",
            "165/165 [==============================] - 1s 6ms/step - loss: 0.9035 - accuracy: 0.7029 - val_loss: 0.8495 - val_accuracy: 0.7204\n",
            "Epoch 5/15\n",
            "165/165 [==============================] - 1s 6ms/step - loss: 0.7784 - accuracy: 0.7383 - val_loss: 0.7887 - val_accuracy: 0.7432\n",
            "Epoch 6/15\n",
            "165/165 [==============================] - 1s 6ms/step - loss: 0.6906 - accuracy: 0.7695 - val_loss: 0.6768 - val_accuracy: 0.7873\n",
            "Epoch 7/15\n",
            "165/165 [==============================] - 1s 7ms/step - loss: 0.6233 - accuracy: 0.7912 - val_loss: 0.6433 - val_accuracy: 0.7712\n",
            "Epoch 8/15\n",
            "165/165 [==============================] - 1s 6ms/step - loss: 0.5872 - accuracy: 0.8057 - val_loss: 0.5851 - val_accuracy: 0.8062\n",
            "Epoch 9/15\n",
            "165/165 [==============================] - 1s 6ms/step - loss: 0.5313 - accuracy: 0.8307 - val_loss: 0.5578 - val_accuracy: 0.8288\n",
            "Epoch 10/15\n",
            "165/165 [==============================] - 1s 7ms/step - loss: 0.4939 - accuracy: 0.8441 - val_loss: 0.5355 - val_accuracy: 0.8305\n",
            "Epoch 11/15\n",
            "165/165 [==============================] - 1s 7ms/step - loss: 0.4677 - accuracy: 0.8520 - val_loss: 0.5123 - val_accuracy: 0.8396\n",
            "Epoch 12/15\n",
            "165/165 [==============================] - 1s 9ms/step - loss: 0.4470 - accuracy: 0.8581 - val_loss: 0.4817 - val_accuracy: 0.8481\n",
            "Epoch 13/15\n",
            "165/165 [==============================] - 1s 7ms/step - loss: 0.4173 - accuracy: 0.8665 - val_loss: 0.4862 - val_accuracy: 0.8476\n",
            "Epoch 14/15\n",
            "165/165 [==============================] - 1s 6ms/step - loss: 0.4045 - accuracy: 0.8709 - val_loss: 0.4616 - val_accuracy: 0.8551\n",
            "Epoch 15/15\n",
            "165/165 [==============================] - 1s 6ms/step - loss: 0.3862 - accuracy: 0.8768 - val_loss: 0.4727 - val_accuracy: 0.8498\n",
            "313/313 [==============================] - 0s 1ms/step - loss: 0.5023 - accuracy: 0.8404\n"
          ]
        }
      ],
      "source": [
        "# 10-слойноая модель\n",
        "\n",
        "# Build the model.\n",
        "model = Sequential([\n",
        "  Dense(128, activation='relu', input_shape=(784,)),\n",
        "  Dense(neuron_num, activation='sigmoid'),\n",
        "  Dense(neuron_num, activation='sigmoid'),\n",
        "  Dense(neuron_num, activation='sigmoid'),\n",
        "  Dense(neuron_num, activation='sigmoid'),\n",
        "  Dense(10, activation='softmax'),\n",
        "])\n",
        "\n",
        "# Compile the model.\n",
        "model.compile(\n",
        "    optimizer='adam',\n",
        "    loss=keras.losses.CategoricalCrossentropy(),\n",
        "    metrics=['accuracy'],\n",
        ")\n",
        "\n",
        "# Train the model.\n",
        "history = model.fit(\n",
        "    train_images,\n",
        "    to_categorical(train_labels, 10),\n",
        "    epochs=epochs,\n",
        "    batch_size=256,\n",
        "    validation_split=0.3\n",
        ")\n",
        "\n",
        "# Evaluate the model.\n",
        "test_scores = model.evaluate(\n",
        "  test_images,\n",
        "  to_categorical(test_labels)\n",
        ")\n",
        "\n",
        "# накопление результатов\n",
        "model_name = '10-слойная сеть'\n",
        "model_accuracy = history.history['accuracy'][epochs-1]\n",
        "model_val_accuracy = history.history['val_accuracy'][epochs-1]\n",
        "test_accuracy = test_scores[1]\n",
        "\n",
        "result.append([model_name, model_accuracy, model_val_accuracy, test_accuracy])"
      ]
    },
    {
      "cell_type": "code",
      "execution_count": null,
      "metadata": {
        "colab": {
          "base_uri": "https://localhost:8080/",
          "height": 175
        },
        "id": "FbptRvY9wb-h",
        "outputId": "f7847dca-d04b-4509-fdb4-b4a21a4ba05d"
      },
      "outputs": [
        {
          "output_type": "execute_result",
          "data": {
            "text/plain": [
              "        model_name  model_accuracy  model_val_accuracy  test_accuracy\n",
              "1   3-слойная сеть        0.912071            0.884889         0.8745\n",
              "0   2-слойная сеть        0.908690            0.883333         0.8745\n",
              "2   5-слойная сеть        0.872548            0.857389         0.8496\n",
              "3  10-слойная сеть        0.876810            0.849778         0.8404"
            ],
            "text/html": [
              "\n",
              "  <div id=\"df-b59e1234-dbb6-4f70-be3e-6584e883bf35\">\n",
              "    <div class=\"colab-df-container\">\n",
              "      <div>\n",
              "<style scoped>\n",
              "    .dataframe tbody tr th:only-of-type {\n",
              "        vertical-align: middle;\n",
              "    }\n",
              "\n",
              "    .dataframe tbody tr th {\n",
              "        vertical-align: top;\n",
              "    }\n",
              "\n",
              "    .dataframe thead th {\n",
              "        text-align: right;\n",
              "    }\n",
              "</style>\n",
              "<table border=\"1\" class=\"dataframe\">\n",
              "  <thead>\n",
              "    <tr style=\"text-align: right;\">\n",
              "      <th></th>\n",
              "      <th>model_name</th>\n",
              "      <th>model_accuracy</th>\n",
              "      <th>model_val_accuracy</th>\n",
              "      <th>test_accuracy</th>\n",
              "    </tr>\n",
              "  </thead>\n",
              "  <tbody>\n",
              "    <tr>\n",
              "      <th>1</th>\n",
              "      <td>3-слойная сеть</td>\n",
              "      <td>0.912071</td>\n",
              "      <td>0.884889</td>\n",
              "      <td>0.8745</td>\n",
              "    </tr>\n",
              "    <tr>\n",
              "      <th>0</th>\n",
              "      <td>2-слойная сеть</td>\n",
              "      <td>0.908690</td>\n",
              "      <td>0.883333</td>\n",
              "      <td>0.8745</td>\n",
              "    </tr>\n",
              "    <tr>\n",
              "      <th>2</th>\n",
              "      <td>5-слойная сеть</td>\n",
              "      <td>0.872548</td>\n",
              "      <td>0.857389</td>\n",
              "      <td>0.8496</td>\n",
              "    </tr>\n",
              "    <tr>\n",
              "      <th>3</th>\n",
              "      <td>10-слойная сеть</td>\n",
              "      <td>0.876810</td>\n",
              "      <td>0.849778</td>\n",
              "      <td>0.8404</td>\n",
              "    </tr>\n",
              "  </tbody>\n",
              "</table>\n",
              "</div>\n",
              "      <button class=\"colab-df-convert\" onclick=\"convertToInteractive('df-b59e1234-dbb6-4f70-be3e-6584e883bf35')\"\n",
              "              title=\"Convert this dataframe to an interactive table.\"\n",
              "              style=\"display:none;\">\n",
              "        \n",
              "  <svg xmlns=\"http://www.w3.org/2000/svg\" height=\"24px\"viewBox=\"0 0 24 24\"\n",
              "       width=\"24px\">\n",
              "    <path d=\"M0 0h24v24H0V0z\" fill=\"none\"/>\n",
              "    <path d=\"M18.56 5.44l.94 2.06.94-2.06 2.06-.94-2.06-.94-.94-2.06-.94 2.06-2.06.94zm-11 1L8.5 8.5l.94-2.06 2.06-.94-2.06-.94L8.5 2.5l-.94 2.06-2.06.94zm10 10l.94 2.06.94-2.06 2.06-.94-2.06-.94-.94-2.06-.94 2.06-2.06.94z\"/><path d=\"M17.41 7.96l-1.37-1.37c-.4-.4-.92-.59-1.43-.59-.52 0-1.04.2-1.43.59L10.3 9.45l-7.72 7.72c-.78.78-.78 2.05 0 2.83L4 21.41c.39.39.9.59 1.41.59.51 0 1.02-.2 1.41-.59l7.78-7.78 2.81-2.81c.8-.78.8-2.07 0-2.86zM5.41 20L4 18.59l7.72-7.72 1.47 1.35L5.41 20z\"/>\n",
              "  </svg>\n",
              "      </button>\n",
              "      \n",
              "  <style>\n",
              "    .colab-df-container {\n",
              "      display:flex;\n",
              "      flex-wrap:wrap;\n",
              "      gap: 12px;\n",
              "    }\n",
              "\n",
              "    .colab-df-convert {\n",
              "      background-color: #E8F0FE;\n",
              "      border: none;\n",
              "      border-radius: 50%;\n",
              "      cursor: pointer;\n",
              "      display: none;\n",
              "      fill: #1967D2;\n",
              "      height: 32px;\n",
              "      padding: 0 0 0 0;\n",
              "      width: 32px;\n",
              "    }\n",
              "\n",
              "    .colab-df-convert:hover {\n",
              "      background-color: #E2EBFA;\n",
              "      box-shadow: 0px 1px 2px rgba(60, 64, 67, 0.3), 0px 1px 3px 1px rgba(60, 64, 67, 0.15);\n",
              "      fill: #174EA6;\n",
              "    }\n",
              "\n",
              "    [theme=dark] .colab-df-convert {\n",
              "      background-color: #3B4455;\n",
              "      fill: #D2E3FC;\n",
              "    }\n",
              "\n",
              "    [theme=dark] .colab-df-convert:hover {\n",
              "      background-color: #434B5C;\n",
              "      box-shadow: 0px 1px 3px 1px rgba(0, 0, 0, 0.15);\n",
              "      filter: drop-shadow(0px 1px 2px rgba(0, 0, 0, 0.3));\n",
              "      fill: #FFFFFF;\n",
              "    }\n",
              "  </style>\n",
              "\n",
              "      <script>\n",
              "        const buttonEl =\n",
              "          document.querySelector('#df-b59e1234-dbb6-4f70-be3e-6584e883bf35 button.colab-df-convert');\n",
              "        buttonEl.style.display =\n",
              "          google.colab.kernel.accessAllowed ? 'block' : 'none';\n",
              "\n",
              "        async function convertToInteractive(key) {\n",
              "          const element = document.querySelector('#df-b59e1234-dbb6-4f70-be3e-6584e883bf35');\n",
              "          const dataTable =\n",
              "            await google.colab.kernel.invokeFunction('convertToInteractive',\n",
              "                                                     [key], {});\n",
              "          if (!dataTable) return;\n",
              "\n",
              "          const docLinkHtml = 'Like what you see? Visit the ' +\n",
              "            '<a target=\"_blank\" href=https://colab.research.google.com/notebooks/data_table.ipynb>data table notebook</a>'\n",
              "            + ' to learn more about interactive tables.';\n",
              "          element.innerHTML = '';\n",
              "          dataTable['output_type'] = 'display_data';\n",
              "          await google.colab.output.renderOutput(dataTable, element);\n",
              "          const docLink = document.createElement('div');\n",
              "          docLink.innerHTML = docLinkHtml;\n",
              "          element.appendChild(docLink);\n",
              "        }\n",
              "      </script>\n",
              "    </div>\n",
              "  </div>\n",
              "  "
            ]
          },
          "metadata": {},
          "execution_count": 12
        }
      ],
      "source": [
        "result_table = pd.DataFrame(result, columns=['model_name', 'model_accuracy', 'model_val_accuracy', 'test_accuracy']).sort_values('model_val_accuracy', ascending=False)\n",
        "result_table.head(5)"
      ]
    },
    {
      "cell_type": "markdown",
      "metadata": {
        "id": "08CKdKraxa_W"
      },
      "source": [
        "Самая высокая точность у 3х слойной модели"
      ]
    },
    {
      "cell_type": "markdown",
      "metadata": {
        "id": "jEAK0XRdsg_C"
      },
      "source": [
        "#Задание 2"
      ]
    },
    {
      "cell_type": "code",
      "execution_count": null,
      "metadata": {
        "colab": {
          "base_uri": "https://localhost:8080/",
          "height": 1000
        },
        "id": "xjxIDEjClVub",
        "outputId": "1b9efe55-f05b-4815-8f49-8b4dc805ab29"
      },
      "outputs": [
        {
          "output_type": "stream",
          "name": "stdout",
          "text": [
            "Epoch 1/15\n",
            "165/165 [==============================] - 2s 8ms/step - loss: 1.6417 - accuracy: 0.6823 - val_loss: 1.1968 - val_accuracy: 0.7812\n",
            "Epoch 2/15\n",
            "165/165 [==============================] - 2s 13ms/step - loss: 0.9300 - accuracy: 0.8048 - val_loss: 0.7306 - val_accuracy: 0.8273\n",
            "Epoch 3/15\n",
            "165/165 [==============================] - 1s 9ms/step - loss: 0.6137 - accuracy: 0.8416 - val_loss: 0.5586 - val_accuracy: 0.8380\n",
            "Epoch 4/15\n",
            "165/165 [==============================] - 1s 6ms/step - loss: 0.4857 - accuracy: 0.8570 - val_loss: 0.4923 - val_accuracy: 0.8434\n",
            "Epoch 5/15\n",
            "165/165 [==============================] - 1s 5ms/step - loss: 0.4212 - accuracy: 0.8682 - val_loss: 0.4242 - val_accuracy: 0.8655\n",
            "Epoch 6/15\n",
            "165/165 [==============================] - 1s 6ms/step - loss: 0.3862 - accuracy: 0.8750 - val_loss: 0.4067 - val_accuracy: 0.8663\n",
            "Epoch 7/15\n",
            "165/165 [==============================] - 1s 5ms/step - loss: 0.3580 - accuracy: 0.8807 - val_loss: 0.3887 - val_accuracy: 0.8687\n",
            "Epoch 8/15\n",
            "165/165 [==============================] - 1s 5ms/step - loss: 0.3349 - accuracy: 0.8864 - val_loss: 0.3669 - val_accuracy: 0.8756\n",
            "Epoch 9/15\n",
            "165/165 [==============================] - 1s 6ms/step - loss: 0.3168 - accuracy: 0.8916 - val_loss: 0.3658 - val_accuracy: 0.8729\n",
            "Epoch 10/15\n",
            "165/165 [==============================] - 1s 6ms/step - loss: 0.3088 - accuracy: 0.8937 - val_loss: 0.3532 - val_accuracy: 0.8777\n",
            "Epoch 11/15\n",
            "165/165 [==============================] - 1s 7ms/step - loss: 0.2924 - accuracy: 0.8989 - val_loss: 0.3425 - val_accuracy: 0.8806\n",
            "Epoch 12/15\n",
            "165/165 [==============================] - 1s 6ms/step - loss: 0.2846 - accuracy: 0.9018 - val_loss: 0.3530 - val_accuracy: 0.8740\n",
            "Epoch 13/15\n",
            "165/165 [==============================] - 1s 9ms/step - loss: 0.2723 - accuracy: 0.9039 - val_loss: 0.3346 - val_accuracy: 0.8854\n",
            "Epoch 14/15\n",
            "165/165 [==============================] - 1s 8ms/step - loss: 0.2583 - accuracy: 0.9109 - val_loss: 0.3371 - val_accuracy: 0.8834\n",
            "Epoch 15/15\n",
            "165/165 [==============================] - 1s 6ms/step - loss: 0.2570 - accuracy: 0.9103 - val_loss: 0.3364 - val_accuracy: 0.8844\n",
            "Epoch 1/15\n",
            "165/165 [==============================] - 1s 6ms/step - loss: 2.3228 - accuracy: 0.1421 - val_loss: 2.2599 - val_accuracy: 0.2216\n",
            "Epoch 2/15\n",
            "165/165 [==============================] - 1s 6ms/step - loss: 2.2313 - accuracy: 0.2798 - val_loss: 2.2065 - val_accuracy: 0.3598\n",
            "Epoch 3/15\n",
            "165/165 [==============================] - 1s 6ms/step - loss: 2.1801 - accuracy: 0.3887 - val_loss: 2.1542 - val_accuracy: 0.4173\n",
            "Epoch 4/15\n",
            "165/165 [==============================] - 1s 5ms/step - loss: 2.1242 - accuracy: 0.4287 - val_loss: 2.0943 - val_accuracy: 0.4431\n",
            "Epoch 5/15\n",
            "165/165 [==============================] - 1s 6ms/step - loss: 2.0609 - accuracy: 0.4611 - val_loss: 2.0275 - val_accuracy: 0.4982\n",
            "Epoch 6/15\n",
            "165/165 [==============================] - 1s 8ms/step - loss: 1.9911 - accuracy: 0.5012 - val_loss: 1.9550 - val_accuracy: 0.5147\n",
            "Epoch 7/15\n",
            "165/165 [==============================] - 1s 5ms/step - loss: 1.9167 - accuracy: 0.5138 - val_loss: 1.8790 - val_accuracy: 0.5209\n",
            "Epoch 8/15\n",
            "165/165 [==============================] - 1s 5ms/step - loss: 1.8401 - accuracy: 0.5208 - val_loss: 1.8022 - val_accuracy: 0.5463\n",
            "Epoch 9/15\n",
            "165/165 [==============================] - 1s 6ms/step - loss: 1.7637 - accuracy: 0.5460 - val_loss: 1.7265 - val_accuracy: 0.5694\n",
            "Epoch 10/15\n",
            "165/165 [==============================] - 1s 5ms/step - loss: 1.6898 - accuracy: 0.5650 - val_loss: 1.6545 - val_accuracy: 0.5776\n",
            "Epoch 11/15\n",
            "165/165 [==============================] - 1s 5ms/step - loss: 1.6200 - accuracy: 0.5787 - val_loss: 1.5865 - val_accuracy: 0.6011\n",
            "Epoch 12/15\n",
            "165/165 [==============================] - 1s 6ms/step - loss: 1.5543 - accuracy: 0.5989 - val_loss: 1.5228 - val_accuracy: 0.6143\n",
            "Epoch 13/15\n",
            "165/165 [==============================] - 1s 6ms/step - loss: 1.4929 - accuracy: 0.6184 - val_loss: 1.4634 - val_accuracy: 0.6270\n",
            "Epoch 14/15\n",
            "165/165 [==============================] - 1s 5ms/step - loss: 1.4357 - accuracy: 0.6342 - val_loss: 1.4081 - val_accuracy: 0.6408\n",
            "Epoch 15/15\n",
            "165/165 [==============================] - 1s 5ms/step - loss: 1.3827 - accuracy: 0.6488 - val_loss: 1.3570 - val_accuracy: 0.6538\n",
            "Epoch 1/15\n",
            "165/165 [==============================] - 2s 7ms/step - loss: 1.5870 - accuracy: 0.6719 - val_loss: 1.2549 - val_accuracy: 0.6654\n",
            "Epoch 2/15\n",
            "165/165 [==============================] - 1s 5ms/step - loss: 0.8792 - accuracy: 0.7903 - val_loss: 0.6938 - val_accuracy: 0.8134\n",
            "Epoch 3/15\n",
            "165/165 [==============================] - 1s 5ms/step - loss: 0.5965 - accuracy: 0.8284 - val_loss: 0.7638 - val_accuracy: 0.7437\n",
            "Epoch 4/15\n",
            "165/165 [==============================] - 1s 7ms/step - loss: 0.4886 - accuracy: 0.8456 - val_loss: 0.6130 - val_accuracy: 0.7783\n",
            "Epoch 5/15\n",
            "165/165 [==============================] - 1s 5ms/step - loss: 0.4328 - accuracy: 0.8560 - val_loss: 0.6958 - val_accuracy: 0.7453\n",
            "Epoch 6/15\n",
            "165/165 [==============================] - 1s 6ms/step - loss: 0.3980 - accuracy: 0.8656 - val_loss: 0.5294 - val_accuracy: 0.8048\n",
            "Epoch 7/15\n",
            "165/165 [==============================] - 1s 8ms/step - loss: 0.3754 - accuracy: 0.8691 - val_loss: 0.4851 - val_accuracy: 0.8291\n",
            "Epoch 8/15\n",
            "165/165 [==============================] - 1s 8ms/step - loss: 0.3537 - accuracy: 0.8761 - val_loss: 0.5443 - val_accuracy: 0.8034\n",
            "Epoch 9/15\n",
            "165/165 [==============================] - 1s 6ms/step - loss: 0.3361 - accuracy: 0.8822 - val_loss: 0.4584 - val_accuracy: 0.8347\n",
            "Epoch 10/15\n",
            "165/165 [==============================] - 1s 6ms/step - loss: 0.3236 - accuracy: 0.8855 - val_loss: 0.6359 - val_accuracy: 0.7696\n",
            "Epoch 11/15\n",
            "165/165 [==============================] - 1s 6ms/step - loss: 0.3126 - accuracy: 0.8877 - val_loss: 0.3526 - val_accuracy: 0.8786\n",
            "Epoch 12/15\n",
            "165/165 [==============================] - 1s 5ms/step - loss: 0.2988 - accuracy: 0.8938 - val_loss: 0.4364 - val_accuracy: 0.8457\n",
            "Epoch 13/15\n",
            "165/165 [==============================] - 1s 7ms/step - loss: 0.2913 - accuracy: 0.8955 - val_loss: 0.4362 - val_accuracy: 0.8477\n",
            "Epoch 14/15\n",
            "165/165 [==============================] - 1s 5ms/step - loss: 0.2820 - accuracy: 0.8992 - val_loss: 0.3703 - val_accuracy: 0.8699\n",
            "Epoch 15/15\n",
            "165/165 [==============================] - 1s 5ms/step - loss: 0.2728 - accuracy: 0.9011 - val_loss: 0.4149 - val_accuracy: 0.8538\n"
          ]
        },
        {
          "output_type": "display_data",
          "data": {
            "text/plain": [
              "<Figure size 1152x504 with 1 Axes>"
            ],
            "image/png": "[encoded data removed]"
          },
          "metadata": {
            "needs_background": "light"
          }
        }
      ],
      "source": [
        "plt.figure(figsize=(16,7))\n",
        "\n",
        "epochs = 15\n",
        "neuron_num = 30\n",
        "\n",
        "optimizers = ['adam', 'sgd', 'rmsprop']\n",
        "\n",
        "result = []\n",
        "for opt in optimizers:\n",
        "\n",
        "  # Build the model.\n",
        "  model = Sequential([ Dense(128, activation='relu', input_shape=(784,)),\n",
        "                       Dense(neuron_num, activation='sigmoid'),\n",
        "                       Dense(neuron_num, activation='sigmoid'),\n",
        "                       Dense(10, activation='softmax')]\n",
        "                     )\n",
        "\n",
        "  # Compile the model.\n",
        "  model.compile(\n",
        "      optimizer=opt,\n",
        "      loss=keras.losses.CategoricalCrossentropy(),\n",
        "      metrics=['accuracy'],\n",
        "  )\n",
        "\n",
        "  # Train the model.\n",
        "  history = model.fit(\n",
        "      train_images,\n",
        "      to_categorical(train_labels, 10),\n",
        "      epochs=epochs,\n",
        "      batch_size=256,\n",
        "      validation_split=0.3\n",
        "  )\n",
        "\n",
        "  # результаты\n",
        "  model_name = f'Model with {opt} optimizers'\n",
        "  model_accuracy = history.history['accuracy'][epochs-1]\n",
        "  model_val_accuracy = history.history['val_accuracy'][epochs-1]\n",
        "  result.append([model_name, model_accuracy, model_val_accuracy])\n",
        "\n",
        "\n",
        "  plt.plot(np.arange(epochs), history.history['loss'],    '-',  label = f'{opt} - train')\n",
        "  plt.plot(np.arange(epochs), history.history['val_loss'],'--', label = f'{opt} - validation')\n",
        "\n",
        "plt.legend()\n",
        "plt.grid('On')\n",
        "plt.xlabel('epoch')\n",
        "plt.ylabel('loss')\n",
        "plt.show()"
      ]
    },
    {
      "cell_type": "code",
      "execution_count": null,
      "metadata": {
        "colab": {
          "base_uri": "https://localhost:8080/",
          "height": 143
        },
        "id": "AAg5gE8onKyz",
        "outputId": "580f102f-c033-46d2-9192-09500eb926a0"
      },
      "outputs": [
        {
          "output_type": "execute_result",
          "data": {
            "text/plain": [
              "                      model_name  model_accuracy  model_val_accuracy\n",
              "0     Model with adam optimizers        0.910310            0.884389\n",
              "2  Model with rmsprop optimizers        0.901071            0.853778\n",
              "1      Model with sgd optimizers        0.648786            0.653833"
            ],
            "text/html": [
              "\n",
              "  <div id=\"df-329bc4b6-ebbe-4dcf-a742-2b0bd4bd58be\">\n",
              "    <div class=\"colab-df-container\">\n",
              "      <div>\n",
              "<style scoped>\n",
              "    .dataframe tbody tr th:only-of-type {\n",
              "        vertical-align: middle;\n",
              "    }\n",
              "\n",
              "    .dataframe tbody tr th {\n",
              "        vertical-align: top;\n",
              "    }\n",
              "\n",
              "    .dataframe thead th {\n",
              "        text-align: right;\n",
              "    }\n",
              "</style>\n",
              "<table border=\"1\" class=\"dataframe\">\n",
              "  <thead>\n",
              "    <tr style=\"text-align: right;\">\n",
              "      <th></th>\n",
              "      <th>model_name</th>\n",
              "      <th>model_accuracy</th>\n",
              "      <th>model_val_accuracy</th>\n",
              "    </tr>\n",
              "  </thead>\n",
              "  <tbody>\n",
              "    <tr>\n",
              "      <th>0</th>\n",
              "      <td>Model with adam optimizers</td>\n",
              "      <td>0.910310</td>\n",
              "      <td>0.884389</td>\n",
              "    </tr>\n",
              "    <tr>\n",
              "      <th>2</th>\n",
              "      <td>Model with rmsprop optimizers</td>\n",
              "      <td>0.901071</td>\n",
              "      <td>0.853778</td>\n",
              "    </tr>\n",
              "    <tr>\n",
              "      <th>1</th>\n",
              "      <td>Model with sgd optimizers</td>\n",
              "      <td>0.648786</td>\n",
              "      <td>0.653833</td>\n",
              "    </tr>\n",
              "  </tbody>\n",
              "</table>\n",
              "</div>\n",
              "      <button class=\"colab-df-convert\" onclick=\"convertToInteractive('df-329bc4b6-ebbe-4dcf-a742-2b0bd4bd58be')\"\n",
              "              title=\"Convert this dataframe to an interactive table.\"\n",
              "              style=\"display:none;\">\n",
              "        \n",
              "  <svg xmlns=\"http://www.w3.org/2000/svg\" height=\"24px\"viewBox=\"0 0 24 24\"\n",
              "       width=\"24px\">\n",
              "    <path d=\"M0 0h24v24H0V0z\" fill=\"none\"/>\n",
              "    <path d=\"M18.56 5.44l.94 2.06.94-2.06 2.06-.94-2.06-.94-.94-2.06-.94 2.06-2.06.94zm-11 1L8.5 8.5l.94-2.06 2.06-.94-2.06-.94L8.5 2.5l-.94 2.06-2.06.94zm10 10l.94 2.06.94-2.06 2.06-.94-2.06-.94-.94-2.06-.94 2.06-2.06.94z\"/><path d=\"M17.41 7.96l-1.37-1.37c-.4-.4-.92-.59-1.43-.59-.52 0-1.04.2-1.43.59L10.3 9.45l-7.72 7.72c-.78.78-.78 2.05 0 2.83L4 21.41c.39.39.9.59 1.41.59.51 0 1.02-.2 1.41-.59l7.78-7.78 2.81-2.81c.8-.78.8-2.07 0-2.86zM5.41 20L4 18.59l7.72-7.72 1.47 1.35L5.41 20z\"/>\n",
              "  </svg>\n",
              "      </button>\n",
              "      \n",
              "  <style>\n",
              "    .colab-df-container {\n",
              "      display:flex;\n",
              "      flex-wrap:wrap;\n",
              "      gap: 12px;\n",
              "    }\n",
              "\n",
              "    .colab-df-convert {\n",
              "      background-color: #E8F0FE;\n",
              "      border: none;\n",
              "      border-radius: 50%;\n",
              "      cursor: pointer;\n",
              "      display: none;\n",
              "      fill: #1967D2;\n",
              "      height: 32px;\n",
              "      padding: 0 0 0 0;\n",
              "      width: 32px;\n",
              "    }\n",
              "\n",
              "    .colab-df-convert:hover {\n",
              "      background-color: #E2EBFA;\n",
              "      box-shadow: 0px 1px 2px rgba(60, 64, 67, 0.3), 0px 1px 3px 1px rgba(60, 64, 67, 0.15);\n",
              "      fill: #174EA6;\n",
              "    }\n",
              "\n",
              "    [theme=dark] .colab-df-convert {\n",
              "      background-color: #3B4455;\n",
              "      fill: #D2E3FC;\n",
              "    }\n",
              "\n",
              "    [theme=dark] .colab-df-convert:hover {\n",
              "      background-color: #434B5C;\n",
              "      box-shadow: 0px 1px 3px 1px rgba(0, 0, 0, 0.15);\n",
              "      filter: drop-shadow(0px 1px 2px rgba(0, 0, 0, 0.3));\n",
              "      fill: #FFFFFF;\n",
              "    }\n",
              "  </style>\n",
              "\n",
              "      <script>\n",
              "        const buttonEl =\n",
              "          document.querySelector('#df-329bc4b6-ebbe-4dcf-a742-2b0bd4bd58be button.colab-df-convert');\n",
              "        buttonEl.style.display =\n",
              "          google.colab.kernel.accessAllowed ? 'block' : 'none';\n",
              "\n",
              "        async function convertToInteractive(key) {\n",
              "          const element = document.querySelector('#df-329bc4b6-ebbe-4dcf-a742-2b0bd4bd58be');\n",
              "          const dataTable =\n",
              "            await google.colab.kernel.invokeFunction('convertToInteractive',\n",
              "                                                     [key], {});\n",
              "          if (!dataTable) return;\n",
              "\n",
              "          const docLinkHtml = 'Like what you see? Visit the ' +\n",
              "            '<a target=\"_blank\" href=https://colab.research.google.com/notebooks/data_table.ipynb>data table notebook</a>'\n",
              "            + ' to learn more about interactive tables.';\n",
              "          element.innerHTML = '';\n",
              "          dataTable['output_type'] = 'display_data';\n",
              "          await google.colab.output.renderOutput(dataTable, element);\n",
              "          const docLink = document.createElement('div');\n",
              "          docLink.innerHTML = docLinkHtml;\n",
              "          element.appendChild(docLink);\n",
              "        }\n",
              "      </script>\n",
              "    </div>\n",
              "  </div>\n",
              "  "
            ]
          },
          "metadata": {},
          "execution_count": 14
        }
      ],
      "source": [
        "result_table = pd.DataFrame(result, columns=['model_name', 'model_accuracy', 'model_val_accuracy']).sort_values('model_val_accuracy', ascending=False)\n",
        "result_table.head(5)"
      ]
    },
    {
      "cell_type": "markdown",
      "metadata": {
        "id": "0nHJak3Hqgba"
      },
      "source": [
        "Лучший результат показал оптимизатор 'Adam'. Близко к нему, по результатам оказался оптимизатор 'RMSProp', однако из графика видно, что, в отличии от 'Adam', его фунция потерь не является монотонно убывающе на валидационной выборке"
      ]
    },
    {
      "cell_type": "markdown",
      "metadata": {
        "id": "GCVabI52r1Hf"
      },
      "source": [
        "Таким образом, на качетво модели может все три параметра - число нейронов с скрытом слое, число слоев и оптимизатор. Однако не всегда простое увеличение числа нейронов и слоев ведет к повышению точности.\n",
        " Для данной задаци, наилучшие результаты оказались числе нейронов 30, 3х слоях и оптимизаторе 'Adam'"
      ]
    },
    {
      "cell_type": "markdown",
      "metadata": {
        "id": "SMK-CwIaydje"
      },
      "source": [
        "#Задание 4"
      ]
    },
    {
      "cell_type": "code",
      "execution_count": null,
      "metadata": {
        "colab": {
          "base_uri": "https://localhost:8080/"
        },
        "id": "KzS6rL6hy5YK",
        "outputId": "4f5dee40-df7c-4d62-8c7f-03674cc10b43"
      },
      "outputs": [
        {
          "output_type": "stream",
          "name": "stdout",
          "text": [
            "Epoch 1/15\n",
            "165/165 [==============================] - 2s 7ms/step - loss: 1.6553 - accuracy: 0.6673 - val_loss: 1.1670 - val_accuracy: 0.7915\n",
            "Epoch 2/15\n",
            "165/165 [==============================] - 1s 7ms/step - loss: 0.8919 - accuracy: 0.8116 - val_loss: 0.7053 - val_accuracy: 0.8238\n",
            "Epoch 3/15\n",
            "165/165 [==============================] - 1s 8ms/step - loss: 0.6034 - accuracy: 0.8411 - val_loss: 0.5461 - val_accuracy: 0.8439\n",
            "Epoch 4/15\n",
            "165/165 [==============================] - 1s 6ms/step - loss: 0.4883 - accuracy: 0.8555 - val_loss: 0.4686 - val_accuracy: 0.8552\n",
            "Epoch 5/15\n",
            "165/165 [==============================] - 1s 7ms/step - loss: 0.4290 - accuracy: 0.8650 - val_loss: 0.4496 - val_accuracy: 0.8527\n",
            "Epoch 6/15\n",
            "165/165 [==============================] - 1s 7ms/step - loss: 0.3946 - accuracy: 0.8715 - val_loss: 0.4180 - val_accuracy: 0.8599\n",
            "Epoch 7/15\n",
            "165/165 [==============================] - 1s 6ms/step - loss: 0.3703 - accuracy: 0.8757 - val_loss: 0.3890 - val_accuracy: 0.8688\n",
            "Epoch 8/15\n",
            "165/165 [==============================] - 1s 6ms/step - loss: 0.3409 - accuracy: 0.8856 - val_loss: 0.3833 - val_accuracy: 0.8676\n",
            "Epoch 9/15\n",
            "165/165 [==============================] - 1s 7ms/step - loss: 0.3275 - accuracy: 0.8884 - val_loss: 0.3614 - val_accuracy: 0.8771\n",
            "Epoch 10/15\n",
            "165/165 [==============================] - 1s 6ms/step - loss: 0.3124 - accuracy: 0.8926 - val_loss: 0.3650 - val_accuracy: 0.8731\n",
            "Epoch 11/15\n",
            "165/165 [==============================] - 1s 6ms/step - loss: 0.2985 - accuracy: 0.8975 - val_loss: 0.3558 - val_accuracy: 0.8772\n",
            "Epoch 12/15\n",
            "165/165 [==============================] - 1s 6ms/step - loss: 0.2882 - accuracy: 0.8997 - val_loss: 0.3557 - val_accuracy: 0.8738\n",
            "Epoch 13/15\n",
            "165/165 [==============================] - 1s 7ms/step - loss: 0.2782 - accuracy: 0.9035 - val_loss: 0.3391 - val_accuracy: 0.8820\n",
            "Epoch 14/15\n",
            "165/165 [==============================] - 2s 9ms/step - loss: 0.2660 - accuracy: 0.9071 - val_loss: 0.3407 - val_accuracy: 0.8802\n",
            "Epoch 15/15\n",
            "165/165 [==============================] - 1s 6ms/step - loss: 0.2607 - accuracy: 0.9087 - val_loss: 0.3371 - val_accuracy: 0.8819\n"
          ]
        },
        {
          "output_type": "execute_result",
          "data": {
            "text/plain": [
              "<keras.callbacks.History at 0x7faae0cf5430>"
            ]
          },
          "metadata": {},
          "execution_count": 15
        }
      ],
      "source": [
        "# 3-слойноая модель\n",
        "\n",
        "# Build the model.\n",
        "model = Sequential([\n",
        "  Dense(128, activation='relu', input_shape=(784,)),\n",
        "  Dense(neuron_num, activation='sigmoid'),\n",
        "  Dense(neuron_num, activation='sigmoid'),\n",
        "  Dense(10, activation='softmax'),\n",
        "])\n",
        "\n",
        "# Compile the model.\n",
        "model.compile(\n",
        "    optimizer='adam',\n",
        "    loss=keras.losses.CategoricalCrossentropy(),\n",
        "    metrics=['accuracy'],\n",
        ")\n",
        "\n",
        "model.fit(\n",
        "    train_images,\n",
        "    to_categorical(train_labels, 10),\n",
        "    epochs=epochs,\n",
        "    batch_size=256,\n",
        "    validation_split=0.3\n",
        ")"
      ]
    },
    {
      "cell_type": "code",
      "execution_count": null,
      "metadata": {
        "id": "qhRnhG--ye1K",
        "colab": {
          "base_uri": "https://localhost:8080/"
        },
        "outputId": "5bd34b9b-a713-4a19-b7fd-f83d5b71d1b1"
      },
      "outputs": [
        {
          "output_type": "stream",
          "name": "stdout",
          "text": [
            "313/313 [==============================] - 1s 2ms/step\n"
          ]
        }
      ],
      "source": [
        "test_pred = np.argmax(model.predict(test_images), axis=1)"
      ]
    },
    {
      "cell_type": "code",
      "execution_count": null,
      "metadata": {
        "id": "tf7Wx0FvzfHy"
      },
      "outputs": [],
      "source": [
        "from sklearn.metrics import classification_report\n",
        "from sklearn.metrics import confusion_matrix"
      ]
    },
    {
      "cell_type": "code",
      "execution_count": null,
      "metadata": {
        "colab": {
          "base_uri": "https://localhost:8080/"
        },
        "id": "3FybsPyczj3S",
        "outputId": "ec73a639-f284-4900-c714-6ab8d31fd29b"
      },
      "outputs": [
        {
          "output_type": "stream",
          "name": "stdout",
          "text": [
            "              precision    recall  f1-score   support\n",
            "\n",
            "           0       0.87      0.80      0.83      1000\n",
            "           1       0.99      0.96      0.98      1000\n",
            "           2       0.79      0.80      0.79      1000\n",
            "           3       0.84      0.91      0.88      1000\n",
            "           4       0.80      0.77      0.79      1000\n",
            "           5       0.92      0.97      0.95      1000\n",
            "           6       0.68      0.70      0.69      1000\n",
            "           7       0.93      0.94      0.94      1000\n",
            "           8       0.96      0.96      0.96      1000\n",
            "           9       0.98      0.93      0.95      1000\n",
            "\n",
            "    accuracy                           0.87     10000\n",
            "   macro avg       0.88      0.87      0.87     10000\n",
            "weighted avg       0.88      0.87      0.87     10000\n",
            "\n"
          ]
        }
      ],
      "source": [
        "print(classification_report(test_labels, test_pred))"
      ]
    },
    {
      "cell_type": "code",
      "execution_count": null,
      "metadata": {
        "id": "JSgA58vxzyJz"
      },
      "outputs": [],
      "source": [
        "import itertools\n",
        "def plot_confusion_matrix(cm, classes,\n",
        "                          normalize=False,\n",
        "                          cmap=plt.cm.Blues):\n",
        "    \"\"\"\n",
        "    This function prints and plots the confusion matrix.\n",
        "    Normalization can be applied by setting `normalize=True`.\n",
        "    \"\"\"\n",
        "    if normalize:\n",
        "        cm = cm.astype('float') / cm.sum(axis=1)[:, np.newaxis]\n",
        "        print(\"Normalized confusion matrix\")\n",
        "    else:\n",
        "        print('Confusion matrix, without normalization')\n",
        "\n",
        "    print(cm)\n",
        "\n",
        "    plt.figure(figsize=(16,7))\n",
        "    plt.imshow(cm, interpolation='nearest',  cmap=cmap)\n",
        "\n",
        "    plt.grid(False)\n",
        "    plt.title('confusion matrix')\n",
        "    tick_marks = np.arange(len(classes))\n",
        "    plt.xticks(tick_marks, classes, rotation=45)\n",
        "    plt.yticks(tick_marks, classes)\n",
        "\n",
        "    fmt = '.2f' if normalize else 'd'\n",
        "    thresh = cm.max() / 2.\n",
        "    for i, j in itertools.product(range(cm.shape[0]), range(cm.shape[1])):\n",
        "        plt.text(j, i, format(cm[i, j], fmt),\n",
        "                 horizontalalignment=\"center\",\n",
        "                 color=\"white\" if cm[i, j] > thresh else \"black\")\n",
        "\n",
        "    plt.ylabel('Actual')\n",
        "    plt.xlabel('Predicted')\n",
        "    plt.tight_layout()"
      ]
    },
    {
      "cell_type": "code",
      "execution_count": null,
      "metadata": {
        "colab": {
          "base_uri": "https://localhost:8080/",
          "height": 709
        },
        "id": "xOYV_1Py0Hyy",
        "outputId": "80fb355f-7858-4675-9900-34465f393190"
      },
      "outputs": [
        {
          "output_type": "stream",
          "name": "stdout",
          "text": [
            "Confusion matrix, without normalization\n",
            "[[797   1  13  37   1   3 138   1   9   0]\n",
            " [  1 964   1  25   4   0   3   0   2   0]\n",
            " [ 12   0 796  22  83   1  83   0   3   0]\n",
            " [ 14   6  10 913  28   2  23   0   4   0]\n",
            " [  0   1 110  50 772   0  64   0   3   0]\n",
            " [  0   0   0   0   0 973   0  19   1   7]\n",
            " [ 96   2  80  33  73   0 700   0  16   0]\n",
            " [  0   0   0   0   0  44   0 940   1  15]\n",
            " [  0   1   1   3   3  10  13   5 964   0]\n",
            " [  0   0   0   0   0  26   0  45   1 928]]\n"
          ]
        },
        {
          "output_type": "display_data",
          "data": {
            "text/plain": [
              "<Figure size 1152x504 with 1 Axes>"
            ],
            "image/png": "[encoded data removed]"
          },
          "metadata": {
            "needs_background": "light"
          }
        }
      ],
      "source": [
        "cm = confusion_matrix(test_labels, test_pred)\n",
        "plot_confusion_matrix(cm, classes=[\"0\", \"1\", \"2\", \"3\", \"4\", \"5\", \"6\", \"7\", \"8\", \"9\"])"
      ]
    },
    {
      "cell_type": "code",
      "execution_count": null,
      "metadata": {
        "id": "INqqNlxt0eNC"
      },
      "outputs": [],
      "source": []
    },
    {
      "cell_type": "markdown",
      "source": [
        "* Также хочется отметить, что в Keras есть команда `early_stopping`, которая позволяет прерывать обучение, если потери при проверке больше не уменьшаются уже какое-то количество эпох (параметр `patience`). Использование данной команды позволит сократить трату ресурсов на вычисление ненужных эпох."
      ],
      "metadata": {
        "id": "EufLhlpS50W0"
      }
    }
  ],
  "metadata": {
    "colab": {
      "provenance": [],
      "include_colab_link": true
    },
    "kernelspec": {
      "display_name": "Python 3 (ipykernel)",
      "language": "python",
      "name": "python3"
    },
    "language_info": {
      "codemirror_mode": {
        "name": "ipython",
        "version": 3
      },
      "file_extension": ".py",
      "mimetype": "text/x-python",
      "name": "python",
      "nbconvert_exporter": "python",
      "pygments_lexer": "ipython3",
      "version": "3.9.15"
    }
  },
  "nbformat": 4,
  "nbformat_minor": 0
}